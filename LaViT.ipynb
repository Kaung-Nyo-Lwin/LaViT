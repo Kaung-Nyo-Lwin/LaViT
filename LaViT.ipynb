{
 "cells": [
  {
   "cell_type": "code",
   "execution_count": 2,
   "id": "6dc57b08-eb2a-438d-9f88-ec2e27cf423d",
   "metadata": {},
   "outputs": [],
   "source": [
    "# Import libraries\n",
    "\n",
    "import torch\n",
    "from torch import nn\n",
    "from torchvision.datasets import OxfordIIITPet\n",
    "import matplotlib.pyplot as plt\n",
    "from random import random\n",
    "from torchvision.transforms import Resize, ToTensor\n",
    "from torchvision.transforms.functional import to_pil_image"
   ]
  },
  {
   "cell_type": "code",
   "execution_count": 12,
   "id": "4deda779-4ce1-4e3b-ab0e-8c809d2f669e",
   "metadata": {},
   "outputs": [],
   "source": [
    "# For our puffer surver we need to browse via a proxy!!\n",
    "import os\n",
    "# Set HTTP and HTTPS proxy\n",
    "os.environ['http_proxy'] = 'http://192.41.170.23:3128'\n",
    "os.environ['https_proxy'] = 'http://192.41.170.23:3128'"
   ]
  },
  {
   "cell_type": "code",
   "execution_count": null,
   "id": "757109ad-957f-485b-b3e2-80910d4f4450",
   "metadata": {},
   "outputs": [],
   "source": [
    "from torch import nn\n",
    "from einops.layers.torch import Rearrange\n",
    "from torch import Tensor\n",
    "import numpy as np\n",
    "from einops import rearrange\n",
    "\n",
    "class PatchEmbedding(nn.Module):\n",
    "    def __init__(self, in_channels = 3,out_channels=1,ConV=False, patch_size = 4,\n",
    "                 n_patch= 36 , emb_size = 128):\n",
    "        self.patch_size = patch_size\n",
    "        # self.stop_at_conv = stop_at_conv\n",
    "        self.res_att = None\n",
    "        # self.in_channels = in_channels\n",
    "        super().__init__()\n",
    "        if ConV:\n",
    "            # patch_size = int(patch_size / 2)\n",
    "            self.patch_size = patch_size\n",
    "            self.projection = nn.Sequential(\n",
    "                # break-down the image in s1 x s2 patches and flat them\n",
    "                Rearrange('b (h w) e -> b e h w',h=n_patch,w=n_patch),\n",
    "                # Rearrange('b n e -> b 1 n e'),\n",
    "                torch.nn.Conv2d(in_channels,out_channels,2,2),\n",
    "                nn.BatchNorm2d(out_channels),\n",
    "                nn.LeakyReLU(0.1),\n",
    "                Rearrange('b c h w -> b (h w) c'),\n",
    "                nn.Linear(out_channels, emb_size)\n",
    "                \n",
    "            )\n",
    "        else:\n",
    "            self.projection = nn.Sequential(\n",
    "                # break-down the image in s1 x s2 patches and flat them\n",
    "                Rearrange('b c (h p1) (w p2) -> b (h w) (p1 p2 c)', p1=patch_size, p2=patch_size),\n",
    "                nn.Linear(patch_size * patch_size * in_channels, emb_size)\n",
    "            )\n",
    "            \n",
    "    # def _get_rest_att(self): return self.res_att\n",
    "\n",
    "    def forward(self, x: Tensor) -> Tensor:\n",
    "        x = self.projection[0](x)\n",
    "        x = self.projection[1](x)\n",
    "        if len(self.projection) > 2: \n",
    "            x = self.projection[2](x)\n",
    "            x = self.projection[3](x)\n",
    "            x = self.projection[4](x)\n",
    "            x = self.projection[5](x)\n",
    "        return x\n",
    "    \n",
    "# # Run a quick test\n",
    "# sample_datapoint = torch.unsqueeze(dataset[0][0], 0)\n",
    "# print(\"Initial shape: \", sample_datapoint.shape)\n",
    "# embedding = PatchEmbedding()(sample_datapoint)\n",
    "# print(\"Patches shape: \", embedding.shape)"
   ]
  },
  {
   "cell_type": "code",
   "execution_count": 49,
   "id": "68d6dd6b-d9ba-4a56-84fd-7b96dc23bcfd",
   "metadata": {},
   "outputs": [
    {
     "name": "stdout",
     "output_type": "stream",
     "text": [
      "torch.Size([1, 3, 144, 144])\n",
      "torch.Size([1, 1296, 48])\n"
     ]
    }
   ],
   "source": [
    "embedding = PatchEmbedding()(sample_datapoint)"
   ]
  },
  {
   "cell_type": "code",
   "execution_count": 10,
   "id": "a6f3ceed-3d10-431f-b606-dc00e4eaa88f",
   "metadata": {},
   "outputs": [
    {
     "data": {
      "text/plain": [
       "torch.Size([1, 1296, 128])"
      ]
     },
     "execution_count": 10,
     "metadata": {},
     "output_type": "execute_result"
    }
   ],
   "source": [
    "embedding.shape"
   ]
  },
  {
   "cell_type": "code",
   "execution_count": 17,
   "id": "677b78a9-de11-456b-b019-1d175a7c7eae",
   "metadata": {},
   "outputs": [],
   "source": [
    "from einops import rearrange\n",
    "\n",
    "class Attention(nn.Module):\n",
    "    def __init__(self, dim, n_heads, dropout):\n",
    "        super().__init__()\n",
    "        self.n_heads = n_heads\n",
    "        self.att = torch.nn.MultiheadAttention(embed_dim=dim,\n",
    "                                               num_heads=n_heads,\n",
    "                                               dropout=dropout)\n",
    "        self.q = torch.nn.Linear(dim, dim)\n",
    "        self.k = torch.nn.Linear(dim, dim)\n",
    "        self.v = torch.nn.Linear(dim, dim)\n",
    "\n",
    "    def forward(self, x):\n",
    "        q = self.q(x)\n",
    "        k = self.k(x)\n",
    "        v = self.v(x)\n",
    "        attn_output, attn_output_weights = self.att(x, x, x)\n",
    "        return attn_output"
   ]
  },
  {
   "cell_type": "code",
   "execution_count": 13,
   "id": "2809206a-a452-40e6-8cda-44b1f136de6d",
   "metadata": {},
   "outputs": [
    {
     "data": {
      "text/plain": [
       "torch.Size([1, 5, 128])"
      ]
     },
     "execution_count": 13,
     "metadata": {},
     "output_type": "execute_result"
    }
   ],
   "source": [
    "Attention(dim=128, n_heads=4, dropout=0.)(torch.ones((1, 5, 128))).shape"
   ]
  },
  {
   "cell_type": "code",
   "execution_count": 18,
   "id": "88411f8c-1202-4742-b018-eccdbb848b1b",
   "metadata": {},
   "outputs": [],
   "source": [
    "class PreNorm(nn.Module):\n",
    "    def __init__(self, dim, fn):\n",
    "        super().__init__()\n",
    "        self.norm = nn.LayerNorm(dim)\n",
    "        self.fn = fn\n",
    "    def forward(self, x, **kwargs):\n",
    "        return self.fn(self.norm(x), **kwargs)"
   ]
  },
  {
   "cell_type": "code",
   "execution_count": 15,
   "id": "cab32766-52dc-49d9-b299-44bb45727f23",
   "metadata": {},
   "outputs": [
    {
     "data": {
      "text/plain": [
       "torch.Size([1, 5, 128])"
      ]
     },
     "execution_count": 15,
     "metadata": {},
     "output_type": "execute_result"
    }
   ],
   "source": [
    "norm = PreNorm(128, Attention(dim=128, n_heads=4, dropout=0.))\n",
    "norm(torch.ones((1, 5, 128))).shape"
   ]
  },
  {
   "cell_type": "code",
   "execution_count": 19,
   "id": "4f908cb8-cd1d-430b-b076-6ef6d6d62f15",
   "metadata": {},
   "outputs": [
    {
     "data": {
      "text/plain": [
       "torch.Size([1, 5, 128])"
      ]
     },
     "execution_count": 19,
     "metadata": {},
     "output_type": "execute_result"
    }
   ],
   "source": [
    "class FeedForward(nn.Sequential):\n",
    "    def __init__(self, dim, hidden_dim, dropout = 0.):\n",
    "        super().__init__(\n",
    "            nn.Linear(dim, hidden_dim),\n",
    "            nn.GELU(),\n",
    "            nn.Dropout(dropout),\n",
    "            nn.Linear(hidden_dim, dim),\n",
    "            nn.Dropout(dropout)\n",
    "        )\n",
    "ff = FeedForward(dim=128, hidden_dim=256)\n",
    "ff(torch.ones((1, 5, 128))).shape"
   ]
  },
  {
   "cell_type": "code",
   "execution_count": 20,
   "id": "a2a18583-5484-4bfb-bc41-e93b06590561",
   "metadata": {},
   "outputs": [],
   "source": [
    "class ResidualAdd(nn.Module):\n",
    "    def __init__(self, fn):\n",
    "        super().__init__()\n",
    "        self.fn = fn\n",
    "\n",
    "    def forward(self, x, **kwargs):\n",
    "        res = x\n",
    "        x = self.fn(x, **kwargs)\n",
    "        x += res\n",
    "        return x"
   ]
  },
  {
   "cell_type": "code",
   "execution_count": 9,
   "id": "02d5c110-2ede-441b-995e-d548d307e626",
   "metadata": {},
   "outputs": [
    {
     "data": {
      "text/plain": [
       "torch.Size([1, 5, 128])"
      ]
     },
     "execution_count": 9,
     "metadata": {},
     "output_type": "execute_result"
    }
   ],
   "source": [
    "residual_att = ResidualAdd(Attention(dim=128, n_heads=4, dropout=0.))\n",
    "residual_att(torch.ones((1, 5, 128))).shape"
   ]
  },
  {
   "cell_type": "code",
   "execution_count": 21,
   "id": "0cdfa425-6d82-4d74-b55b-a11621bd51f4",
   "metadata": {},
   "outputs": [],
   "source": [
    "from einops import rearrange\n",
    "\n",
    "class LessAttention(nn.Module):\n",
    "    def __init__(self,n_patch, emb_dim):\n",
    "        super().__init__()\n",
    "        # self.fn = fn\n",
    "        self.in_dim = emb_dim\n",
    "        self.n_patch = n_patch\n",
    "        # self.out_dim = int(emb_dim / 2)\n",
    "\n",
    "        self.FC1 = torch.nn.Linear(self.in_dim, n_patch)\n",
    "        self.FC2 = torch.nn.Linear(n_patch, n_patch)\n",
    "    \n",
    "    def get_out_dim(): return self.out_dim\n",
    "\n",
    "    def forward(self, x):\n",
    "        # x = self.fn(x)\n",
    "        # print(x.shape)\n",
    "        x = self.FC1(x)\n",
    "        # print(x.shape)\n",
    "        x =  torch.transpose(x, 1, 2)\n",
    "        # print(self.n_patch)\n",
    "        # print(x.shape)\n",
    "        x = self.FC2(x)\n",
    "        # print(x.shape)\n",
    "        x =  torch.transpose(x, 1, 2)\n",
    "        # print(x.shape)\n",
    "        return x"
   ]
  },
  {
   "cell_type": "code",
   "execution_count": 19,
   "id": "779835ed-5db6-499c-982a-60604e7e4408",
   "metadata": {},
   "outputs": [
    {
     "name": "stdout",
     "output_type": "stream",
     "text": [
      "torch.Size([1, 5, 5])\n",
      "5\n",
      "torch.Size([1, 5, 5])\n"
     ]
    },
    {
     "data": {
      "text/plain": [
       "torch.Size([1, 5, 5])"
      ]
     },
     "execution_count": 19,
     "metadata": {},
     "output_type": "execute_result"
    }
   ],
   "source": [
    "LessAttention(5,128)(torch.ones((1, 5, 128))).shape"
   ]
  },
  {
   "cell_type": "code",
   "execution_count": null,
   "id": "0f2ad8eb",
   "metadata": {},
   "outputs": [],
   "source": [
    "device = 'cuda'"
   ]
  },
  {
   "cell_type": "code",
   "execution_count": null,
   "id": "56693caa-4d72-4fbd-ad98-b35dd9f3ff98",
   "metadata": {},
   "outputs": [
    {
     "data": {
      "text/plain": [
       "torch.Size([10, 10])"
      ]
     },
     "execution_count": 179,
     "metadata": {},
     "output_type": "execute_result"
    }
   ],
   "source": [
    "from einops import repeat\n",
    "import numpy as np\n",
    "\n",
    "class ViT(nn.Module):\n",
    "    def __init__(self, ch=3, img_size=32, patch_size=2, emb_dim=32,\n",
    "                n_layers=4, out_dim=10, dropout=0.1, heads=2):\n",
    "        super(ViT, self).__init__()\n",
    "\n",
    "        # Attributes\n",
    "        self.channels = ch\n",
    "        self.height = img_size\n",
    "        self.width = img_size\n",
    "        self.patch_size = patch_size\n",
    "        self.n_layers = n_layers\n",
    "        self.att_matrix = list(range(self.n_layers))\n",
    "        self.attention_feature = None\n",
    "        # Patching\n",
    "        self.patch_embedding = PatchEmbedding(in_channels=ch,\n",
    "                                              patch_size=patch_size,\n",
    "                                              emb_size=emb_dim)\n",
    "\n",
    "        # Learnable params -- Positional embeddings and class token\n",
    "        num_patches = (img_size // patch_size) ** 2\n",
    "        self.hw_patch = int(np.sqrt(num_patches))\n",
    "        self.pos_embedding = nn.Parameter(\n",
    "            torch.randn(1, num_patches + 1, emb_dim))\n",
    "        self.cls_token = nn.Parameter(torch.rand(1, 1, emb_dim))\n",
    "        first_layer = True\n",
    "        second_layer = True\n",
    "        # Transformer Encoder\n",
    "        self.layers = nn.ModuleList([])\n",
    "        for _ in range(n_layers):\n",
    "            if first_layer:\n",
    "                transformer_block = nn.Sequential(\n",
    "                    ResidualAdd(PreNorm(emb_dim, Attention(emb_dim, n_heads = heads, dropout = dropout))),\n",
    "                    ResidualAdd(PreNorm(emb_dim, FeedForward(emb_dim, emb_dim, dropout = dropout)))\n",
    "                    )\n",
    "                first_layer = False\n",
    "                self.layers.append(transformer_block)\n",
    "                continue\n",
    "            else:\n",
    "                num_patches = int(num_patches / 4)\n",
    "                transformer_block = nn.Sequential(\n",
    "                    PatchEmbedding(in_channels=emb_dim,out_channels=emb_dim,ConV=True,\n",
    "                                   n_patch=self.hw_patch,emb_size=emb_dim),\n",
    "                    ResidualAdd(PreNorm(emb_dim, Attention(emb_dim, n_heads = heads, dropout = dropout))),\n",
    "                    ResidualAdd(PreNorm(emb_dim, FeedForward(emb_dim, emb_dim, dropout = dropout))),\n",
    "                    PreNorm(emb_dim,LessAttention(num_patches,emb_dim)),\n",
    "                    Rearrange('b h w -> b 1 h w'),\n",
    "                    nn.Conv2d(1,1,2,4),\n",
    "                    Rearrange('b 1 h w -> b h w'),\n",
    "                    )\n",
    "                self.hw_patch = int(self.hw_patch / 2)\n",
    "            self.layers.append(transformer_block)\n",
    "            \n",
    "\n",
    "#         # Classification head\n",
    "        self.head = nn.Sequential(nn.LayerNorm(emb_dim), nn.Linear(emb_dim, out_dim),nn.Softmax(dim=1))\n",
    "\n",
    "\n",
    "    def forward(self, img):\n",
    "        x = self.patch_embedding(img)\n",
    "        b, n, _ = x.shape\n",
    "        cls_tokens = repeat(self.cls_token, '1 1 d -> b 1 d', b = b)\n",
    "        x = torch.cat([cls_tokens, x], dim=1)\n",
    "        x += self.pos_embedding[:, :(n + 1)]\n",
    "        # Transformer layers\n",
    "        for i in range(self.n_layers):\n",
    "            if i == 0:\n",
    "                x = self.layers[i](x)\n",
    "                self.att_matrix[i] = x\n",
    "            else:\n",
    "                # remove cls_token for conv operation\n",
    "                x = x[:,1:,:]\n",
    "                # conv + patch embedding\n",
    "                x = self.layers[i][0](x)\n",
    "                # store attention for residual connection\n",
    "                # add cls_token back\n",
    "                x = torch.cat([cls_tokens, x], dim=1)\n",
    "                # print(x.shape)\n",
    "                # multi head self attention\n",
    "                x = self.layers[i][1](x)\n",
    "                # matrix transpose for preserving diagonal properites\n",
    "                att_in = x[:,1:,:]\n",
    "                transformed_att = self.layers[i][3](att_in)\n",
    "                if i > 1 :\n",
    "                    self.att_matrix[i] = self.layers[i][4](self.att_matrix[i-1])\n",
    "                    res_att= self.layers[i][5](self.att_matrix[i])\n",
    "                    res_att = self.layers[i][6](res_att)\n",
    "                    transformed_att += res_att\n",
    "                self.att_matrix[i] = transformed_att\n",
    "                b, n, e = transformed_att.shape\n",
    "                transformed_att = torch.cat([torch.ones(b, 1, e).to(device), transformed_att], dim=1)\n",
    "                b, n, e = transformed_att.shape\n",
    "                transformed_att = torch.cat([torch.ones(b, n, 1).to(device), transformed_att], dim=2)\n",
    "                x = self.layers[i][2](x)\n",
    "                x = torch.matmul(nn.Softmax(dim=1)(transformed_att),x)\n",
    "        self.attention_feature = x\n",
    "        return self.head(x[:, 0, :])\n",
    "\n",
    "\n",
    "model = ViT().to(device)\n",
    "print(model)\n",
    "model(torch.ones((10, 3, 32, 32)).to(device)).shape\n"
   ]
  },
  {
   "cell_type": "code",
   "execution_count": null,
   "id": "dbeb5622-1577-4da3-ad99-c6b3172d621a",
   "metadata": {},
   "outputs": [],
   "source": [
    "class DiagonalLoss(nn.Module):\n",
    "    \"\"\"\n",
    "    Calculate the Diagonal Loss\n",
    "    \"\"\"\n",
    "\n",
    "    def __init__(self):\n",
    "        super(DiagonalLoss, self).__init__()\n",
    "        # self.att_matrix = attention\n",
    "        self.loss1 = 0\n",
    "        self.loss2 = 0\n",
    "        self.loss = 0\n",
    "\n",
    "    def forward(self,attention):\n",
    "        att_matrix = attention\n",
    "        layers = len(att_matrix)\n",
    "        self.loss1 = 0\n",
    "        self.loss2 = 0\n",
    "        self.loss = 0\n",
    "        for i in range(layers):\n",
    "            b,n,_ =  att_matrix[i].shape\n",
    "            if i == 0:\n",
    "                continue\n",
    "            self.loss1 += torch.sum(torch.abs(att_matrix[i] - torch.transpose(att_matrix[i], 1, 2)))\n",
    "        \n",
    "            dia = torch.diagonal(att_matrix[i][:,:,:],dim1=1,dim2=2)\n",
    "            dia = dia * n\n",
    "            no_dai = att_matrix[i].clone()\n",
    "            \n",
    "            for j in range(b):\n",
    "                no_dai[j] = no_dai[j].clone().fill_diagonal_(0)\n",
    "            no_dai_sum = torch.sum(no_dai,(1,2)).reshape(-1,1)\n",
    "#             no_dai_sum = torch.sum(no_dai,2)\n",
    "            self.loss2 += torch.sum(torch.sub(dia,no_dai_sum))\n",
    "            # self.loss2 += torch.sum(torch.sub(no_dai_sum,dia))\n",
    "            self.loss = self.loss1+self.loss2\n",
    "        return self.loss"
   ]
  },
  {
   "cell_type": "code",
   "execution_count": 4,
   "id": "6d6ef07b-a112-4ed0-866e-b314607108d8",
   "metadata": {},
   "outputs": [
    {
     "data": {
      "text/plain": [
       "<torch._C.Generator at 0x7f1414bfa410>"
      ]
     },
     "execution_count": 4,
     "metadata": {},
     "output_type": "execute_result"
    }
   ],
   "source": [
    "seed = 123\n",
    "torch.manual_seed(seed)"
   ]
  },
  {
   "cell_type": "code",
   "execution_count": 6,
   "id": "093549a8-7361-4964-86b5-2f32fd80dd03",
   "metadata": {},
   "outputs": [],
   "source": [
    "import torchvision\n",
    "from torchvision import datasets,transforms\n",
    "from torch.utils.data import DataLoader, Subset"
   ]
  },
  {
   "cell_type": "code",
   "execution_count": 7,
   "id": "908b4ac4-0c50-4e47-9b55-8ff853efa83b",
   "metadata": {},
   "outputs": [],
   "source": [
    "mean = 0.0\n",
    "stddev = 1.0\n",
    "transform=transforms.Compose([transforms.ToTensor(),\n",
    "                              transforms.Normalize((mean), (stddev))])"
   ]
  },
  {
   "cell_type": "code",
   "execution_count": 8,
   "id": "5ccd9a8a-4f7c-4635-b68e-e0b470316322",
   "metadata": {},
   "outputs": [
    {
     "name": "stdout",
     "output_type": "stream",
     "text": [
      "Files already downloaded and verified\n",
      "Files already downloaded and verified\n"
     ]
    }
   ],
   "source": [
    "cifar_train = datasets.CIFAR10('.', train=True, download=True ,transform=transforms.ToTensor())\n",
    "cifar_test = datasets.CIFAR10('.', train=False, download=True ,transform=transforms.ToTensor())"
   ]
  },
  {
   "cell_type": "code",
   "execution_count": 34,
   "id": "45bd727d-24f1-4f3c-90e6-0479f9085268",
   "metadata": {},
   "outputs": [],
   "source": [
    "import numpy as np\n",
    "from sklearn.model_selection import train_test_split\n",
    "from torch.utils.data import Subset\n",
    "indices = torch.randperm(len(cifar_train))\n",
    "train_indices, test_indices = train_test_split(indices, train_size=0.8)\n",
    "train_dataset = Subset(cifar_train, train_indices)\n",
    "val_dataset = Subset(cifar_train, test_indices)\n",
    "\n",
    "train_loader = DataLoader(train_dataset, batch_size=64, shuffle=True)\n",
    "val_loader = DataLoader(val_dataset, batch_size=64, shuffle=False)\n",
    "test_loader = DataLoader(cifar_test, batch_size=64, shuffle=False)"
   ]
  },
  {
   "cell_type": "code",
   "execution_count": 494,
   "id": "cee2d7d1-55b3-43f1-bec1-38c29efc00e1",
   "metadata": {},
   "outputs": [
    {
     "data": {
      "text/plain": [
       "50000"
      ]
     },
     "execution_count": 494,
     "metadata": {},
     "output_type": "execute_result"
    }
   ],
   "source": [
    "len(cifar_train)"
   ]
  },
  {
   "cell_type": "code",
   "execution_count": 29,
   "id": "92309a1c-728c-49f7-8ba4-b25294f21a56",
   "metadata": {},
   "outputs": [],
   "source": [
    "def subsample_dataset(dataset, sample_size=1000):\n",
    "    indices = np.random.choice(len(dataset), sample_size, replace=False)\n",
    "    subset = Subset(dataset, indices)\n",
    "    return subset"
   ]
  },
  {
   "cell_type": "code",
   "execution_count": 35,
   "id": "2a87605d-5581-4f37-921e-d9795b49b164",
   "metadata": {},
   "outputs": [],
   "source": [
    "sample_size = 1000\n",
    "train_subset = subsample_dataset(train_dataset, sample_size=sample_size)\n",
    "val_subset = subsample_dataset(val_dataset, sample_size=int(sample_size * 0.2))\n",
    "test_subset = subsample_dataset(cifar_test, sample_size=200)"
   ]
  },
  {
   "cell_type": "code",
   "execution_count": 40,
   "id": "6e236b2d-bdf4-4d98-a402-1665b9b80f27",
   "metadata": {},
   "outputs": [],
   "source": [
    "sample_size = 1000\n",
    "train_subset = subsample_dataset(train_dataset, sample_size=sample_size)\n",
    "val_subset = subsample_dataset(val_dataset, sample_size=int(sample_size * 0.2))\n",
    "test_subset = subsample_dataset(cifar_test, sample_size=200)\n",
    "\n",
    "train_loader = DataLoader(train_subset, batch_size=64, shuffle=True)\n",
    "val_loader = DataLoader(val_subset, batch_size=64, shuffle=False)\n",
    "test_loader = DataLoader(test_subset, batch_size=200, shuffle=False)"
   ]
  },
  {
   "cell_type": "code",
   "execution_count": 135,
   "id": "76fb6125-e90d-45ac-b8f2-422a555256fd",
   "metadata": {},
   "outputs": [],
   "source": [
    "torch.cuda.set_device(1)"
   ]
  },
  {
   "cell_type": "code",
   "execution_count": 108,
   "id": "db88fd42-db74-4971-88b8-ffdab94f0001",
   "metadata": {},
   "outputs": [
    {
     "data": {
      "text/plain": [
       "<torch._C.Generator at 0x7f1414bfa410>"
      ]
     },
     "execution_count": 108,
     "metadata": {},
     "output_type": "execute_result"
    }
   ],
   "source": [
    "seed = 123\n",
    "torch.manual_seed(seed)"
   ]
  },
  {
   "cell_type": "code",
   "execution_count": 180,
   "id": "460e0ca3-bba9-4a25-bfca-0a9c03119e7b",
   "metadata": {},
   "outputs": [
    {
     "name": "stdout",
     "output_type": "stream",
     "text": [
      ">>> Epoch 0 - train loss: 2.280819281935692 - train accuracy : 0.14328880765501859 \n",
      ">>> Epoch 0 - test loss: 2.298498272895813 - test accuracy : 0.09700520833333333 \n",
      ">>> Epoch 5 - train loss: 2.1729065477848053 - train accuracy : 0.3038044259343088 \n",
      ">>> Epoch 5 - test loss: 2.2926857471466064 - test accuracy : 0.145078125 \n",
      ">>> Epoch 10 - train loss: 2.143717482686043 - train accuracy : 0.3448510361166611 \n",
      ">>> Epoch 10 - test loss: 2.2692190408706665 - test accuracy : 0.15833333333333333 \n",
      ">>> Epoch 15 - train loss: 2.1151367500424385 - train accuracy : 0.36969321921568016 \n",
      ">>> Epoch 15 - test loss: 2.2620809674263 - test accuracy : 0.16598958333333336 \n",
      ">>> Epoch 20 - train loss: 2.0636355131864548 - train accuracy : 0.40797355530753965 \n",
      ">>> Epoch 20 - test loss: 2.2681984305381775 - test accuracy : 0.21911458333333333 \n",
      ">>> Epoch 25 - train loss: 2.0531872883439064 - train accuracy : 0.4036900744654651 \n",
      ">>> Epoch 25 - test loss: 2.244340181350708 - test accuracy : 0.2616666666666667 \n",
      ">>> Epoch 30 - train loss: 2.018283523619175 - train accuracy : 0.4491827922511516 \n",
      ">>> Epoch 30 - test loss: 2.2257559299468994 - test accuracy : 0.23192708333333334 \n",
      ">>> Epoch 35 - train loss: 1.9960244819521904 - train accuracy : 0.4607932989319708 \n",
      ">>> Epoch 35 - test loss: 2.212102174758911 - test accuracy : 0.2609114583333333 \n",
      ">>> Epoch 40 - train loss: 1.9737888500094414 - train accuracy : 0.49399455188908314 \n",
      ">>> Epoch 40 - test loss: 2.229054868221283 - test accuracy : 0.21200520833333333 \n",
      ">>> Epoch 45 - train loss: 1.9400515705347061 - train accuracy : 0.5689918115738428 \n",
      ">>> Epoch 45 - test loss: 2.205301344394684 - test accuracy : 0.28734375 \n",
      ">>> Epoch 50 - train loss: 1.9219013378024101 - train accuracy : 0.5368584991397491 \n",
      ">>> Epoch 50 - test loss: 2.2288761138916016 - test accuracy : 0.260859375 \n",
      ">>> Epoch 55 - train loss: 1.890892282128334 - train accuracy : 0.5796299701817279 \n",
      ">>> Epoch 55 - test loss: 2.1824771761894226 - test accuracy : 0.2983072916666667 \n",
      ">>> Epoch 60 - train loss: 1.8827155753970146 - train accuracy : 0.5751308135224151 \n",
      ">>> Epoch 60 - test loss: 2.1726126670837402 - test accuracy : 0.233671875 \n",
      ">>> Epoch 65 - train loss: 1.8653242141008377 - train accuracy : 0.6084752456744644 \n",
      ">>> Epoch 65 - test loss: 2.192931294441223 - test accuracy : 0.2840364583333333 \n",
      ">>> Epoch 70 - train loss: 1.8369043096899986 - train accuracy : 0.6149163175149504 \n",
      ">>> Epoch 70 - test loss: 2.172696828842163 - test accuracy : 0.3266927083333333 \n",
      ">>> Epoch 75 - train loss: 1.8278729170560837 - train accuracy : 0.6352058378904082 \n",
      ">>> Epoch 75 - test loss: 2.154031217098236 - test accuracy : 0.294296875 \n",
      ">>> Epoch 80 - train loss: 1.8143924325704575 - train accuracy : 0.6566083465145965 \n",
      ">>> Epoch 80 - test loss: 2.1227932572364807 - test accuracy : 0.34596354166666665 \n",
      ">>> Epoch 85 - train loss: 1.8159909844398499 - train accuracy : 0.6475168544563076 \n",
      ">>> Epoch 85 - test loss: 2.178586781024933 - test accuracy : 0.3266927083333333 \n",
      ">>> Epoch 90 - train loss: 1.7850458174943924 - train accuracy : 0.6937727748596889 \n",
      ">>> Epoch 90 - test loss: 2.15131151676178 - test accuracy : 0.3576302083333333 \n",
      ">>> Epoch 95 - train loss: 1.774097464978695 - train accuracy : 0.7080887398192086 \n",
      ">>> Epoch 95 - test loss: 2.17714387178421 - test accuracy : 0.3473697916666667 \n",
      "385.823026\n"
     ]
    }
   ],
   "source": [
    "import torch.optim as optim\n",
    "import numpy as np\n",
    "from datetime import datetime\n",
    "\n",
    "\n",
    "device = \"cuda\"\n",
    "model = ViT().to(device)\n",
    "# train_loader.to(device)\n",
    "# test_loader.to(device)\n",
    "optimizer = optim.AdamW(model.parameters(), lr=0.001)\n",
    "cel = nn.CrossEntropyLoss()\n",
    "da = DiagonalLoss()\n",
    "log_loss_train, log_acc_train, log_loss_test, log_acc_test = [], [], [], []\n",
    "tick = datetime.now()\n",
    "\n",
    "for epoch in range(100):\n",
    "    train_epoch_losses = []\n",
    "    train_epoch_accuracies = []\n",
    "    test_epoch_losses = []\n",
    "    test_epoch_accuracies = []\n",
    "    model.train()\n",
    "    train_corr, train_total = 0, 0\n",
    "    test_corr, test_total = 0, 0\n",
    "    for step, (inputs, labels) in enumerate(train_loader):\n",
    "        inputs, labels = inputs.to(device), labels.to(device)\n",
    "        optimizer.zero_grad()\n",
    "        outputs = model(inputs)\n",
    "        y_pred = torch.argmax(outputs, 1)\n",
    "        train_corr += torch.sum(torch.eq(y_pred, labels).float()).item()\n",
    "        train_total += len(inputs)\n",
    "        epoch_accuracy = train_corr / train_total\n",
    "        train_epoch_accuracies.append(epoch_accuracy)\n",
    "        # print(model.att_matrix[1].shape)\n",
    "        loss =  cel(outputs, labels)\n",
    "        # loss += da(model.att_matrix)\n",
    "        # print(loss)\n",
    "        torch.autograd.set_detect_anomaly(True)\n",
    "        loss.backward(retain_graph=True)\n",
    "        optimizer.step()\n",
    "        train_epoch_losses.append(loss.item())\n",
    "    log_loss_train.append(np.mean(train_epoch_losses))\n",
    "    log_acc_train.append(np.mean(train_epoch_accuracies))\n",
    "    model.eval()\n",
    "    with torch.no_grad():\n",
    "        for step, (inputs, labels) in enumerate(val_loader):\n",
    "            inputs, labels = inputs.to(device), labels.to(device)\n",
    "            outputs = model(inputs)\n",
    "            y_pred = torch.argmax(outputs, 1)\n",
    "            test_corr += torch.sum(torch.eq(y_pred, labels).float()).item()\n",
    "            test_total += len(inputs)\n",
    "            epoch_accuracy = test_corr / test_total\n",
    "            test_epoch_accuracies.append(epoch_accuracy)\n",
    "            loss = cel(outputs, labels)\n",
    "                # loss += da(model.att_matrix)\n",
    "            test_epoch_losses.append(loss.item())\n",
    "    log_loss_test.append(np.mean(test_epoch_losses))\n",
    "    log_acc_test.append(np.mean(test_epoch_accuracies))\n",
    "    if epoch % 5 == 0:\n",
    "    # if True:\n",
    "        print(f\">>> Epoch {epoch} - train loss: {np.mean(train_epoch_losses)} - train accuracy : {np.mean(train_epoch_accuracies)} \") \n",
    "        # epoch_losses = []\n",
    "        # epoch_accuracies = []\n",
    "        print(f\">>> Epoch {epoch} - test loss: {np.mean(test_epoch_losses)} - test accuracy : {np.mean(test_epoch_accuracies)} \") \n",
    "    \n",
    "tock = datetime.now()   \n",
    "\n",
    "diff = tock - tick    # the result is a datetime.timedelta object\n",
    "print(diff.total_seconds())"
   ]
  },
  {
   "cell_type": "code",
   "execution_count": 181,
   "id": "c21a8df5-7182-48e2-b0ee-b74f9f7453c5",
   "metadata": {},
   "outputs": [],
   "source": [
    "import pickle\n",
    "\n",
    "filename = './model/LaViT_for_xgboost.model'\n",
    "pickle.dump(model, open(filename, 'wb'))"
   ]
  },
  {
   "cell_type": "code",
   "execution_count": 75,
   "id": "38e6f544-31a8-4849-a9ea-fb9f365186b9",
   "metadata": {},
   "outputs": [],
   "source": [
    "import pickle\n",
    "\n",
    "filename = './model/LaViT.model'\n",
    "model = pickle.load(open(filename, 'rb'))"
   ]
  },
  {
   "cell_type": "code",
   "execution_count": 182,
   "id": "d8e545c2-99ed-49d6-89b2-891654c46bb3",
   "metadata": {},
   "outputs": [
    {
     "name": "stdout",
     "output_type": "stream",
     "text": [
      "test loss:  915006.5625\n",
      "test acc:  0.255\n"
     ]
    }
   ],
   "source": [
    "cel = nn.CrossEntropyLoss()\n",
    "da = DiagonalLoss()\n",
    "epoch_losses = []\n",
    "epoch_accuracies = []\n",
    "for step, (inputs, labels) in enumerate(test_loader):\n",
    "    test_corr, test_total = 0, 0\n",
    "    model.eval()\n",
    "    with torch.no_grad():\n",
    "        inputs, labels = inputs.to(device), labels.to(device)\n",
    "        outputs = model(inputs)\n",
    "        # print(len(inputs))\n",
    "        y_pred = torch.argmax(outputs, 1)\n",
    "        test_corr += torch.sum(torch.eq(y_pred, labels).float()).item()\n",
    "        test_total += len(inputs)\n",
    "        epoch_accuracy = test_corr / test_total\n",
    "        epoch_accuracies.append(epoch_accuracy)\n",
    "        loss = cel(outputs, labels)\n",
    "        loss += da(model.att_matrix)\n",
    "        # epoch_losses.append(loss.item())\n",
    "print(f\"test loss: \", np.mean(loss.item()))\n",
    "print(f\"test acc: \", epoch_accuracy)"
   ]
  },
  {
   "cell_type": "code",
   "execution_count": 165,
   "id": "bfb4e359-e875-46cb-a5f1-9090f0e136d4",
   "metadata": {},
   "outputs": [
    {
     "data": {
      "text/plain": [
       "tensor([7, 5, 6, 3, 6, 3, 9, 3, 7, 5, 6, 4, 4, 3, 0, 8, 3, 7, 3, 0, 5, 9, 0, 3,\n",
       "        5, 3, 4, 8, 3, 3, 3, 8, 5, 4, 0, 3, 3, 3, 8, 3, 5, 0, 3, 6, 9, 9, 3, 3,\n",
       "        7, 3, 4, 8, 6, 3, 3, 1, 0, 3, 3, 0, 5, 9, 9, 1, 6, 9, 3, 9, 6, 4, 8, 6,\n",
       "        0, 7, 7, 7, 7, 6, 3, 3, 5, 5, 0, 3, 8, 6, 3, 3, 3, 9, 8, 3, 5, 9, 8, 3,\n",
       "        3, 0, 1, 5, 9, 3, 9, 1, 0, 3, 6, 4, 1, 9, 8, 3, 6, 0, 3, 4, 6, 8, 3, 8,\n",
       "        1, 5, 6, 3, 7, 7, 9, 3, 1, 9, 7, 6, 6, 4, 9, 3, 3, 9, 3, 9, 7, 9, 3, 6,\n",
       "        3, 6, 5, 3, 1, 9, 7, 0, 9, 6, 3, 5, 5, 3, 6, 3, 9, 9, 9, 9, 8, 8, 5, 0,\n",
       "        3, 9, 6, 3, 7, 8, 1, 4, 0, 8, 5, 8, 4, 1, 6, 6, 3, 8, 7, 9, 7, 9, 3, 0,\n",
       "        1, 8, 7, 3, 3, 3, 1, 3], device='cuda:0')"
      ]
     },
     "execution_count": 165,
     "metadata": {},
     "output_type": "execute_result"
    }
   ],
   "source": [
    "y_pred"
   ]
  },
  {
   "cell_type": "code",
   "execution_count": 77,
   "id": "9defe3cb-7023-4818-811d-74e7413b4043",
   "metadata": {},
   "outputs": [
    {
     "data": {
      "text/plain": [
       "tensor([7, 7, 7, 7, 7, 7, 7, 7, 7, 7, 7, 7, 7, 7, 7, 7, 7, 7, 7, 7, 7, 7, 7, 7,\n",
       "        7, 7, 7, 7, 7, 7, 7, 7, 7, 7, 7, 7, 7, 7, 7, 7], device='cuda:0')"
      ]
     },
     "execution_count": 77,
     "metadata": {},
     "output_type": "execute_result"
    }
   ],
   "source": [
    "torch.argmax(outputs,dim=1)"
   ]
  },
  {
   "cell_type": "code",
   "execution_count": 492,
   "id": "f86d3c74-8b6e-4296-bdbc-d6b2203e5b57",
   "metadata": {},
   "outputs": [
    {
     "data": {
      "text/plain": [
       "tensor([[ 0.4498,  0.3249, -0.0835, -0.2517],\n",
       "        [ 0.3213,  0.2340, -0.0369, -0.1374],\n",
       "        [-0.0473, -0.0341,  0.0599,  0.1026],\n",
       "        [-0.2530, -0.1551,  0.1111,  0.1737]], device='cuda:1',\n",
       "       grad_fn=<SliceBackward0>)"
      ]
     },
     "execution_count": 492,
     "metadata": {},
     "output_type": "execute_result"
    }
   ],
   "source": [
    "model.att_matrix[3][1,:,:]"
   ]
  },
  {
   "cell_type": "code",
   "execution_count": 493,
   "id": "b83c7785-b01f-46ea-95d7-39665df0027c",
   "metadata": {},
   "outputs": [
    {
     "data": {
      "text/plain": [
       "tensor([[ 0.4573,  0.3238, -0.0865, -0.2605],\n",
       "        [ 0.3219,  0.2287, -0.0319, -0.1415],\n",
       "        [-0.0455, -0.0397,  0.0701,  0.1074],\n",
       "        [-0.2659, -0.1398,  0.1050,  0.1678]], device='cuda:1',\n",
       "       grad_fn=<SliceBackward0>)"
      ]
     },
     "execution_count": 493,
     "metadata": {},
     "output_type": "execute_result"
    }
   ],
   "source": [
    "model.att_matrix[3][2,:,:]"
   ]
  },
  {
   "cell_type": "code",
   "execution_count": 99,
   "id": "8d2e46a2-b0e6-4fa3-92ab-e300c64630cf",
   "metadata": {},
   "outputs": [],
   "source": [
    "import matplotlib.pyplot as plt"
   ]
  },
  {
   "cell_type": "code",
   "execution_count": 183,
   "id": "b57b46dc-fa83-424c-8fa5-f85562d0b1cc",
   "metadata": {},
   "outputs": [
    {
     "data": {
      "image/png": "[encoded data removed]",
      "text/plain": [
       "<Figure size 1000x500 with 1 Axes>"
      ]
     },
     "metadata": {},
     "output_type": "display_data"
    }
   ],
   "source": [
    "# Plot the training and test loss\n",
    "plt.figure(figsize=(10, 5))\n",
    "plt.plot(log_acc_train, label='Train Accuracy')\n",
    "plt.plot(log_acc_test, label='Test Accuracy')\n",
    "plt.title('Loss Curve')\n",
    "plt.xlabel('Epoch')\n",
    "plt.ylabel('Accuracy')\n",
    "plt.legend()\n",
    "plt.savefig('./LaViT_learning_curve.png')\n",
    "plt.show()"
   ]
  },
  {
   "cell_type": "code",
   "execution_count": 146,
   "id": "7416a10d-7e01-4b92-9a40-e93011ac36f3",
   "metadata": {},
   "outputs": [],
   "source": [
    "def get_activation(name):\n",
    "    # hook will capture the layer's output (output) and store it in the activation dictionary with the specified name.\n",
    "    def hook(model, input, output):\n",
    "        activation[name] = output.detach()\n",
    "    return hook"
   ]
  },
  {
   "cell_type": "code",
   "execution_count": 168,
   "id": "b0dd2803-5be8-4ad5-8d15-4b72dd96ef2d",
   "metadata": {},
   "outputs": [
    {
     "data": {
      "text/plain": [
       "<function __main__.get_activation.<locals>.hook(model, input, output)>"
      ]
     },
     "execution_count": 168,
     "metadata": {},
     "output_type": "execute_result"
    }
   ],
   "source": [
    "get_activation('layers3')"
   ]
  },
  {
   "cell_type": "code",
   "execution_count": 149,
   "id": "bc33b709-28e0-41a6-928d-8dd803cb352a",
   "metadata": {},
   "outputs": [
    {
     "data": {
      "text/plain": [
       "<function __main__.get_activation.<locals>.hook(model, input, output)>"
      ]
     },
     "execution_count": 149,
     "metadata": {},
     "output_type": "execute_result"
    }
   ],
   "source": [
    "get_activation(model.head)"
   ]
  },
  {
   "cell_type": "code",
   "execution_count": 171,
   "id": "e6cc90ee-1084-41dc-a78b-0298db979225",
   "metadata": {},
   "outputs": [
    {
     "data": {
      "text/plain": [
       "<torch.utils.hooks.RemovableHandle at 0x7f14b836b310>"
      ]
     },
     "execution_count": 171,
     "metadata": {},
     "output_type": "execute_result"
    }
   ],
   "source": [
    "model.layer3.register_forward_hook(get_activation('layers3'))"
   ]
  },
  {
   "cell_type": "code",
   "execution_count": 172,
   "id": "e4d5e36a-dcca-4bea-b9db-29bb97d04538",
   "metadata": {},
   "outputs": [
    {
     "data": {
      "text/plain": [
       "torch.Size([200, 10])"
      ]
     },
     "execution_count": 172,
     "metadata": {},
     "output_type": "execute_result"
    }
   ],
   "source": [
    "model(inputs).shape"
   ]
  },
  {
   "cell_type": "code",
   "execution_count": 185,
   "id": "ac4687c4-ad05-4e62-b4f2-e4c71eeb3e23",
   "metadata": {},
   "outputs": [
    {
     "data": {
      "text/plain": [
       "torch.Size([200, 5, 32])"
      ]
     },
     "execution_count": 185,
     "metadata": {},
     "output_type": "execute_result"
    }
   ],
   "source": [
    "model.attention_feature.shape"
   ]
  },
  {
   "cell_type": "code",
   "execution_count": null,
   "id": "df5a31c6-d1f9-4cfa-85b1-bbe970136c35",
   "metadata": {},
   "outputs": [],
   "source": [
    "train_subset = subsample_dataset(train_dataset, sample_size=sample_size)\n",
    "val_subset = subsample_dataset(val_dataset, sample_size=int(sample_size * 0.2))\n",
    "test_subset = subsample_dataset(cifar_test, sample_size=200)"
   ]
  },
  {
   "cell_type": "code",
   "execution_count": 197,
   "id": "2e796041-68e0-4322-8170-c6f41b54b47d",
   "metadata": {},
   "outputs": [],
   "source": [
    "train_loader_ = DataLoader(train_subset, batch_size=len(train_subset), shuffle=True)\n",
    "val_loader_ = DataLoader(val_subset, batch_size=len(val_subset), shuffle=False)\n",
    "test_loader_ = DataLoader(test_subset, batch_size=len(test_subset), shuffle=False)"
   ]
  },
  {
   "cell_type": "code",
   "execution_count": 229,
   "id": "d43038a3-d6a8-4da2-8a7f-789a4e133dee",
   "metadata": {},
   "outputs": [
    {
     "name": "stdout",
     "output_type": "stream",
     "text": [
      "test loss:  912755.5625\n",
      "test acc:  0.315\n"
     ]
    }
   ],
   "source": [
    "cel = nn.CrossEntropyLoss()\n",
    "da = DiagonalLoss()\n",
    "epoch_losses = []\n",
    "epoch_accuracies = []\n",
    "for step, (inputs, labels) in enumerate(val_loader_):\n",
    "    test_corr, test_total = 0, 0\n",
    "    model.eval()\n",
    "    with torch.no_grad():\n",
    "        inputs, labels = inputs.to(device), labels.to(device)\n",
    "        outputs = model(inputs)\n",
    "        # print(len(inputs))\n",
    "        y_pred = torch.argmax(outputs, 1)\n",
    "        test_corr += torch.sum(torch.eq(y_pred, labels).float()).item()\n",
    "        test_total += len(inputs)\n",
    "        epoch_accuracy = test_corr / test_total\n",
    "        epoch_accuracies.append(epoch_accuracy)\n",
    "        loss = cel(outputs, labels)\n",
    "        loss += da(model.att_matrix)\n",
    "        y_val = labels.detach().cpu().numpy()\n",
    "        # epoch_losses.append(loss.item())\n",
    "print(f\"test loss: \", np.mean(loss.item()))\n",
    "print(f\"test acc: \", epoch_accuracy)"
   ]
  },
  {
   "cell_type": "code",
   "execution_count": 208,
   "id": "03c0aee2-b634-45c8-b8ba-cf849b6b141f",
   "metadata": {},
   "outputs": [],
   "source": [
    "X_train = model.attention_feature"
   ]
  },
  {
   "cell_type": "code",
   "execution_count": 210,
   "id": "2d9403d2-36ab-40a3-8cc7-a3bef3988ca6",
   "metadata": {},
   "outputs": [],
   "source": [
    "X_val = model.attention_feature"
   ]
  },
  {
   "cell_type": "code",
   "execution_count": 212,
   "id": "f72d8198-0d68-4e25-a14a-75afbbd06bb0",
   "metadata": {},
   "outputs": [],
   "source": [
    "X_test = model.attention_feature"
   ]
  },
  {
   "cell_type": "code",
   "execution_count": 231,
   "id": "59835fcc-fe99-49b4-beea-984effaeb390",
   "metadata": {},
   "outputs": [
    {
     "data": {
      "text/plain": [
       "array([5, 4, 1, 0, 5, 6, 6, 8, 3, 6, 7, 9, 2, 6, 2, 2, 9, 6, 1, 3, 9, 0,\n",
       "       4, 6, 9, 6, 6, 4, 2, 1, 4, 9, 5, 2, 5, 0, 3, 1, 5, 1, 4, 4, 0, 5,\n",
       "       0, 5, 8, 0, 2, 9, 9, 6, 1, 3, 5, 0, 0, 8, 5, 6, 8, 8, 2, 3, 3, 4,\n",
       "       0, 8, 5, 4, 1, 2, 9, 9, 1, 6, 9, 2, 1, 8, 7, 6, 5, 1, 7, 8, 0, 1,\n",
       "       7, 4, 7, 5, 6, 6, 5, 1, 5, 4, 2, 2, 7, 8, 0, 9, 7, 3, 0, 2, 1, 6,\n",
       "       9, 9, 3, 8, 5, 5, 0, 9, 9, 9, 8, 6, 2, 1, 3, 8, 9, 8, 1, 8, 0, 3,\n",
       "       0, 3, 7, 6, 5, 6, 5, 0, 8, 5, 7, 0, 8, 3, 3, 2, 8, 5, 7, 1, 2, 1,\n",
       "       2, 4, 0, 6, 8, 4, 0, 5, 0, 8, 4, 0, 1, 9, 1, 1, 6, 6, 6, 0, 6, 6,\n",
       "       1, 0, 5, 1, 7, 1, 6, 0, 5, 3, 9, 2, 7, 6, 6, 3, 0, 7, 9, 7, 7, 4,\n",
       "       5, 6])"
      ]
     },
     "execution_count": 231,
     "metadata": {},
     "output_type": "execute_result"
    }
   ],
   "source": [
    "y_train, y_val , y_test"
   ]
  },
  {
   "cell_type": "code",
   "execution_count": 253,
   "id": "d048c8b3-fa7f-4eec-a891-16a19403bcfa",
   "metadata": {},
   "outputs": [],
   "source": [
    "X_train_ = torch.mean(X_train,dim=1)\n",
    "X_val_ = torch.mean(X_val,dim=1)\n",
    "X_test_ = torch.mean(X_test,dim=1)"
   ]
  },
  {
   "cell_type": "code",
   "execution_count": 275,
   "id": "2fc708c5-652f-486f-b3ac-79efe2fe3ae4",
   "metadata": {},
   "outputs": [],
   "source": [
    "X_train_ = X_train.flatten(start_dim=1,end_dim=-1)\n",
    "X_val_ = X_val.flatten(start_dim=1,end_dim=-1)"
   ]
  },
  {
   "cell_type": "code",
   "execution_count": 280,
   "id": "5c01e023-8084-4026-96ca-098e97734aac",
   "metadata": {},
   "outputs": [],
   "source": [
    "X_train_ = X_train[:, 0, :]\n",
    "X_val_ = X_val[:, 0, :]"
   ]
  },
  {
   "cell_type": "code",
   "execution_count": 216,
   "id": "56a4c657-697e-4437-894a-e4f7c6e46cab",
   "metadata": {},
   "outputs": [
    {
     "data": {
      "text/plain": [
       "1"
      ]
     },
     "execution_count": 216,
     "metadata": {},
     "output_type": "execute_result"
    }
   ],
   "source": [
    "train_subset[0][1]"
   ]
  },
  {
   "cell_type": "code",
   "execution_count": 239,
   "id": "43debb57-fad1-496f-8d0a-f592b4fdc3ba",
   "metadata": {},
   "outputs": [
    {
     "data": {
      "text/plain": [
       "torch.Size([1000, 5, 32])"
      ]
     },
     "execution_count": 239,
     "metadata": {},
     "output_type": "execute_result"
    }
   ],
   "source": [
    "X_train.shape"
   ]
  },
  {
   "cell_type": "code",
   "execution_count": 232,
   "id": "ef9a0874-0243-432e-b1ad-ec835ae8c7d2",
   "metadata": {},
   "outputs": [],
   "source": [
    "from sklearn.ensemble import GradientBoostingClassifier"
   ]
  },
  {
   "cell_type": "code",
   "execution_count": 233,
   "id": "385b47aa-1f97-4077-aecc-af93af4ba697",
   "metadata": {},
   "outputs": [],
   "source": [
    "gbc = GradientBoostingClassifier()"
   ]
  },
  {
   "cell_type": "code",
   "execution_count": 245,
   "id": "5e93f53f-7caa-40db-86c4-de7f4dd44d5b",
   "metadata": {},
   "outputs": [
    {
     "data": {
      "text/html": [
       "<style>#sk-container-id-1 {\n",
       "  /* Definition of color scheme common for light and dark mode */\n",
       "  --sklearn-color-text: black;\n",
       "  --sklearn-color-line: gray;\n",
       "  /* Definition of color scheme for unfitted estimators */\n",
       "  --sklearn-color-unfitted-level-0: #fff5e6;\n",
       "  --sklearn-color-unfitted-level-1: #f6e4d2;\n",
       "  --sklearn-color-unfitted-level-2: #ffe0b3;\n",
       "  --sklearn-color-unfitted-level-3: chocolate;\n",
       "  /* Definition of color scheme for fitted estimators */\n",
       "  --sklearn-color-fitted-level-0: #f0f8ff;\n",
       "  --sklearn-color-fitted-level-1: #d4ebff;\n",
       "  --sklearn-color-fitted-level-2: #b3dbfd;\n",
       "  --sklearn-color-fitted-level-3: cornflowerblue;\n",
       "\n",
       "  /* Specific color for light theme */\n",
       "  --sklearn-color-text-on-default-background: var(--sg-text-color, var(--theme-code-foreground, var(--jp-content-font-color1, black)));\n",
       "  --sklearn-color-background: var(--sg-background-color, var(--theme-background, var(--jp-layout-color0, white)));\n",
       "  --sklearn-color-border-box: var(--sg-text-color, var(--theme-code-foreground, var(--jp-content-font-color1, black)));\n",
       "  --sklearn-color-icon: #696969;\n",
       "\n",
       "  @media (prefers-color-scheme: dark) {\n",
       "    /* Redefinition of color scheme for dark theme */\n",
       "    --sklearn-color-text-on-default-background: var(--sg-text-color, var(--theme-code-foreground, var(--jp-content-font-color1, white)));\n",
       "    --sklearn-color-background: var(--sg-background-color, var(--theme-background, var(--jp-layout-color0, #111)));\n",
       "    --sklearn-color-border-box: var(--sg-text-color, var(--theme-code-foreground, var(--jp-content-font-color1, white)));\n",
       "    --sklearn-color-icon: #878787;\n",
       "  }\n",
       "}\n",
       "\n",
       "#sk-container-id-1 {\n",
       "  color: var(--sklearn-color-text);\n",
       "}\n",
       "\n",
       "#sk-container-id-1 pre {\n",
       "  padding: 0;\n",
       "}\n",
       "\n",
       "#sk-container-id-1 input.sk-hidden--visually {\n",
       "  border: 0;\n",
       "  clip: rect(1px 1px 1px 1px);\n",
       "  clip: rect(1px, 1px, 1px, 1px);\n",
       "  height: 1px;\n",
       "  margin: -1px;\n",
       "  overflow: hidden;\n",
       "  padding: 0;\n",
       "  position: absolute;\n",
       "  width: 1px;\n",
       "}\n",
       "\n",
       "#sk-container-id-1 div.sk-dashed-wrapped {\n",
       "  border: 1px dashed var(--sklearn-color-line);\n",
       "  margin: 0 0.4em 0.5em 0.4em;\n",
       "  box-sizing: border-box;\n",
       "  padding-bottom: 0.4em;\n",
       "  background-color: var(--sklearn-color-background);\n",
       "}\n",
       "\n",
       "#sk-container-id-1 div.sk-container {\n",
       "  /* jupyter's `normalize.less` sets `[hidden] { display: none; }`\n",
       "     but bootstrap.min.css set `[hidden] { display: none !important; }`\n",
       "     so we also need the `!important` here to be able to override the\n",
       "     default hidden behavior on the sphinx rendered scikit-learn.org.\n",
       "     See: https://github.com/scikit-learn/scikit-learn/issues/21755 */\n",
       "  display: inline-block !important;\n",
       "  position: relative;\n",
       "}\n",
       "\n",
       "#sk-container-id-1 div.sk-text-repr-fallback {\n",
       "  display: none;\n",
       "}\n",
       "\n",
       "div.sk-parallel-item,\n",
       "div.sk-serial,\n",
       "div.sk-item {\n",
       "  /* draw centered vertical line to link estimators */\n",
       "  background-image: linear-gradient(var(--sklearn-color-text-on-default-background), var(--sklearn-color-text-on-default-background));\n",
       "  background-size: 2px 100%;\n",
       "  background-repeat: no-repeat;\n",
       "  background-position: center center;\n",
       "}\n",
       "\n",
       "/* Parallel-specific style estimator block */\n",
       "\n",
       "#sk-container-id-1 div.sk-parallel-item::after {\n",
       "  content: \"\";\n",
       "  width: 100%;\n",
       "  border-bottom: 2px solid var(--sklearn-color-text-on-default-background);\n",
       "  flex-grow: 1;\n",
       "}\n",
       "\n",
       "#sk-container-id-1 div.sk-parallel {\n",
       "  display: flex;\n",
       "  align-items: stretch;\n",
       "  justify-content: center;\n",
       "  background-color: var(--sklearn-color-background);\n",
       "  position: relative;\n",
       "}\n",
       "\n",
       "#sk-container-id-1 div.sk-parallel-item {\n",
       "  display: flex;\n",
       "  flex-direction: column;\n",
       "}\n",
       "\n",
       "#sk-container-id-1 div.sk-parallel-item:first-child::after {\n",
       "  align-self: flex-end;\n",
       "  width: 50%;\n",
       "}\n",
       "\n",
       "#sk-container-id-1 div.sk-parallel-item:last-child::after {\n",
       "  align-self: flex-start;\n",
       "  width: 50%;\n",
       "}\n",
       "\n",
       "#sk-container-id-1 div.sk-parallel-item:only-child::after {\n",
       "  width: 0;\n",
       "}\n",
       "\n",
       "/* Serial-specific style estimator block */\n",
       "\n",
       "#sk-container-id-1 div.sk-serial {\n",
       "  display: flex;\n",
       "  flex-direction: column;\n",
       "  align-items: center;\n",
       "  background-color: var(--sklearn-color-background);\n",
       "  padding-right: 1em;\n",
       "  padding-left: 1em;\n",
       "}\n",
       "\n",
       "\n",
       "/* Toggleable style: style used for estimator/Pipeline/ColumnTransformer box that is\n",
       "clickable and can be expanded/collapsed.\n",
       "- Pipeline and ColumnTransformer use this feature and define the default style\n",
       "- Estimators will overwrite some part of the style using the `sk-estimator` class\n",
       "*/\n",
       "\n",
       "/* Pipeline and ColumnTransformer style (default) */\n",
       "\n",
       "#sk-container-id-1 div.sk-toggleable {\n",
       "  /* Default theme specific background. It is overwritten whether we have a\n",
       "  specific estimator or a Pipeline/ColumnTransformer */\n",
       "  background-color: var(--sklearn-color-background);\n",
       "}\n",
       "\n",
       "/* Toggleable label */\n",
       "#sk-container-id-1 label.sk-toggleable__label {\n",
       "  cursor: pointer;\n",
       "  display: block;\n",
       "  width: 100%;\n",
       "  margin-bottom: 0;\n",
       "  padding: 0.5em;\n",
       "  box-sizing: border-box;\n",
       "  text-align: center;\n",
       "}\n",
       "\n",
       "#sk-container-id-1 label.sk-toggleable__label-arrow:before {\n",
       "  /* Arrow on the left of the label */\n",
       "  content: \"▸\";\n",
       "  float: left;\n",
       "  margin-right: 0.25em;\n",
       "  color: var(--sklearn-color-icon);\n",
       "}\n",
       "\n",
       "#sk-container-id-1 label.sk-toggleable__label-arrow:hover:before {\n",
       "  color: var(--sklearn-color-text);\n",
       "}\n",
       "\n",
       "/* Toggleable content - dropdown */\n",
       "\n",
       "#sk-container-id-1 div.sk-toggleable__content {\n",
       "  max-height: 0;\n",
       "  max-width: 0;\n",
       "  overflow: hidden;\n",
       "  text-align: left;\n",
       "  /* unfitted */\n",
       "  background-color: var(--sklearn-color-unfitted-level-0);\n",
       "}\n",
       "\n",
       "#sk-container-id-1 div.sk-toggleable__content.fitted {\n",
       "  /* fitted */\n",
       "  background-color: var(--sklearn-color-fitted-level-0);\n",
       "}\n",
       "\n",
       "#sk-container-id-1 div.sk-toggleable__content pre {\n",
       "  margin: 0.2em;\n",
       "  border-radius: 0.25em;\n",
       "  color: var(--sklearn-color-text);\n",
       "  /* unfitted */\n",
       "  background-color: var(--sklearn-color-unfitted-level-0);\n",
       "}\n",
       "\n",
       "#sk-container-id-1 div.sk-toggleable__content.fitted pre {\n",
       "  /* unfitted */\n",
       "  background-color: var(--sklearn-color-fitted-level-0);\n",
       "}\n",
       "\n",
       "#sk-container-id-1 input.sk-toggleable__control:checked~div.sk-toggleable__content {\n",
       "  /* Expand drop-down */\n",
       "  max-height: 200px;\n",
       "  max-width: 100%;\n",
       "  overflow: auto;\n",
       "}\n",
       "\n",
       "#sk-container-id-1 input.sk-toggleable__control:checked~label.sk-toggleable__label-arrow:before {\n",
       "  content: \"▾\";\n",
       "}\n",
       "\n",
       "/* Pipeline/ColumnTransformer-specific style */\n",
       "\n",
       "#sk-container-id-1 div.sk-label input.sk-toggleable__control:checked~label.sk-toggleable__label {\n",
       "  color: var(--sklearn-color-text);\n",
       "  background-color: var(--sklearn-color-unfitted-level-2);\n",
       "}\n",
       "\n",
       "#sk-container-id-1 div.sk-label.fitted input.sk-toggleable__control:checked~label.sk-toggleable__label {\n",
       "  background-color: var(--sklearn-color-fitted-level-2);\n",
       "}\n",
       "\n",
       "/* Estimator-specific style */\n",
       "\n",
       "/* Colorize estimator box */\n",
       "#sk-container-id-1 div.sk-estimator input.sk-toggleable__control:checked~label.sk-toggleable__label {\n",
       "  /* unfitted */\n",
       "  background-color: var(--sklearn-color-unfitted-level-2);\n",
       "}\n",
       "\n",
       "#sk-container-id-1 div.sk-estimator.fitted input.sk-toggleable__control:checked~label.sk-toggleable__label {\n",
       "  /* fitted */\n",
       "  background-color: var(--sklearn-color-fitted-level-2);\n",
       "}\n",
       "\n",
       "#sk-container-id-1 div.sk-label label.sk-toggleable__label,\n",
       "#sk-container-id-1 div.sk-label label {\n",
       "  /* The background is the default theme color */\n",
       "  color: var(--sklearn-color-text-on-default-background);\n",
       "}\n",
       "\n",
       "/* On hover, darken the color of the background */\n",
       "#sk-container-id-1 div.sk-label:hover label.sk-toggleable__label {\n",
       "  color: var(--sklearn-color-text);\n",
       "  background-color: var(--sklearn-color-unfitted-level-2);\n",
       "}\n",
       "\n",
       "/* Label box, darken color on hover, fitted */\n",
       "#sk-container-id-1 div.sk-label.fitted:hover label.sk-toggleable__label.fitted {\n",
       "  color: var(--sklearn-color-text);\n",
       "  background-color: var(--sklearn-color-fitted-level-2);\n",
       "}\n",
       "\n",
       "/* Estimator label */\n",
       "\n",
       "#sk-container-id-1 div.sk-label label {\n",
       "  font-family: monospace;\n",
       "  font-weight: bold;\n",
       "  display: inline-block;\n",
       "  line-height: 1.2em;\n",
       "}\n",
       "\n",
       "#sk-container-id-1 div.sk-label-container {\n",
       "  text-align: center;\n",
       "}\n",
       "\n",
       "/* Estimator-specific */\n",
       "#sk-container-id-1 div.sk-estimator {\n",
       "  font-family: monospace;\n",
       "  border: 1px dotted var(--sklearn-color-border-box);\n",
       "  border-radius: 0.25em;\n",
       "  box-sizing: border-box;\n",
       "  margin-bottom: 0.5em;\n",
       "  /* unfitted */\n",
       "  background-color: var(--sklearn-color-unfitted-level-0);\n",
       "}\n",
       "\n",
       "#sk-container-id-1 div.sk-estimator.fitted {\n",
       "  /* fitted */\n",
       "  background-color: var(--sklearn-color-fitted-level-0);\n",
       "}\n",
       "\n",
       "/* on hover */\n",
       "#sk-container-id-1 div.sk-estimator:hover {\n",
       "  /* unfitted */\n",
       "  background-color: var(--sklearn-color-unfitted-level-2);\n",
       "}\n",
       "\n",
       "#sk-container-id-1 div.sk-estimator.fitted:hover {\n",
       "  /* fitted */\n",
       "  background-color: var(--sklearn-color-fitted-level-2);\n",
       "}\n",
       "\n",
       "/* Specification for estimator info (e.g. \"i\" and \"?\") */\n",
       "\n",
       "/* Common style for \"i\" and \"?\" */\n",
       "\n",
       ".sk-estimator-doc-link,\n",
       "a:link.sk-estimator-doc-link,\n",
       "a:visited.sk-estimator-doc-link {\n",
       "  float: right;\n",
       "  font-size: smaller;\n",
       "  line-height: 1em;\n",
       "  font-family: monospace;\n",
       "  background-color: var(--sklearn-color-background);\n",
       "  border-radius: 1em;\n",
       "  height: 1em;\n",
       "  width: 1em;\n",
       "  text-decoration: none !important;\n",
       "  margin-left: 1ex;\n",
       "  /* unfitted */\n",
       "  border: var(--sklearn-color-unfitted-level-1) 1pt solid;\n",
       "  color: var(--sklearn-color-unfitted-level-1);\n",
       "}\n",
       "\n",
       ".sk-estimator-doc-link.fitted,\n",
       "a:link.sk-estimator-doc-link.fitted,\n",
       "a:visited.sk-estimator-doc-link.fitted {\n",
       "  /* fitted */\n",
       "  border: var(--sklearn-color-fitted-level-1) 1pt solid;\n",
       "  color: var(--sklearn-color-fitted-level-1);\n",
       "}\n",
       "\n",
       "/* On hover */\n",
       "div.sk-estimator:hover .sk-estimator-doc-link:hover,\n",
       ".sk-estimator-doc-link:hover,\n",
       "div.sk-label-container:hover .sk-estimator-doc-link:hover,\n",
       ".sk-estimator-doc-link:hover {\n",
       "  /* unfitted */\n",
       "  background-color: var(--sklearn-color-unfitted-level-3);\n",
       "  color: var(--sklearn-color-background);\n",
       "  text-decoration: none;\n",
       "}\n",
       "\n",
       "div.sk-estimator.fitted:hover .sk-estimator-doc-link.fitted:hover,\n",
       ".sk-estimator-doc-link.fitted:hover,\n",
       "div.sk-label-container:hover .sk-estimator-doc-link.fitted:hover,\n",
       ".sk-estimator-doc-link.fitted:hover {\n",
       "  /* fitted */\n",
       "  background-color: var(--sklearn-color-fitted-level-3);\n",
       "  color: var(--sklearn-color-background);\n",
       "  text-decoration: none;\n",
       "}\n",
       "\n",
       "/* Span, style for the box shown on hovering the info icon */\n",
       ".sk-estimator-doc-link span {\n",
       "  display: none;\n",
       "  z-index: 9999;\n",
       "  position: relative;\n",
       "  font-weight: normal;\n",
       "  right: .2ex;\n",
       "  padding: .5ex;\n",
       "  margin: .5ex;\n",
       "  width: min-content;\n",
       "  min-width: 20ex;\n",
       "  max-width: 50ex;\n",
       "  color: var(--sklearn-color-text);\n",
       "  box-shadow: 2pt 2pt 4pt #999;\n",
       "  /* unfitted */\n",
       "  background: var(--sklearn-color-unfitted-level-0);\n",
       "  border: .5pt solid var(--sklearn-color-unfitted-level-3);\n",
       "}\n",
       "\n",
       ".sk-estimator-doc-link.fitted span {\n",
       "  /* fitted */\n",
       "  background: var(--sklearn-color-fitted-level-0);\n",
       "  border: var(--sklearn-color-fitted-level-3);\n",
       "}\n",
       "\n",
       ".sk-estimator-doc-link:hover span {\n",
       "  display: block;\n",
       "}\n",
       "\n",
       "/* \"?\"-specific style due to the `<a>` HTML tag */\n",
       "\n",
       "#sk-container-id-1 a.estimator_doc_link {\n",
       "  float: right;\n",
       "  font-size: 1rem;\n",
       "  line-height: 1em;\n",
       "  font-family: monospace;\n",
       "  background-color: var(--sklearn-color-background);\n",
       "  border-radius: 1rem;\n",
       "  height: 1rem;\n",
       "  width: 1rem;\n",
       "  text-decoration: none;\n",
       "  /* unfitted */\n",
       "  color: var(--sklearn-color-unfitted-level-1);\n",
       "  border: var(--sklearn-color-unfitted-level-1) 1pt solid;\n",
       "}\n",
       "\n",
       "#sk-container-id-1 a.estimator_doc_link.fitted {\n",
       "  /* fitted */\n",
       "  border: var(--sklearn-color-fitted-level-1) 1pt solid;\n",
       "  color: var(--sklearn-color-fitted-level-1);\n",
       "}\n",
       "\n",
       "/* On hover */\n",
       "#sk-container-id-1 a.estimator_doc_link:hover {\n",
       "  /* unfitted */\n",
       "  background-color: var(--sklearn-color-unfitted-level-3);\n",
       "  color: var(--sklearn-color-background);\n",
       "  text-decoration: none;\n",
       "}\n",
       "\n",
       "#sk-container-id-1 a.estimator_doc_link.fitted:hover {\n",
       "  /* fitted */\n",
       "  background-color: var(--sklearn-color-fitted-level-3);\n",
       "}\n",
       "</style><div id=\"sk-container-id-1\" class=\"sk-top-container\"><div class=\"sk-text-repr-fallback\"><pre>PCA(n_components=2)</pre><b>In a Jupyter environment, please rerun this cell to show the HTML representation or trust the notebook. <br />On GitHub, the HTML representation is unable to render, please try loading this page with nbviewer.org.</b></div><div class=\"sk-container\" hidden><div class=\"sk-item\"><div class=\"sk-estimator fitted sk-toggleable\"><input class=\"sk-toggleable__control sk-hidden--visually\" id=\"sk-estimator-id-1\" type=\"checkbox\" checked><label for=\"sk-estimator-id-1\" class=\"sk-toggleable__label fitted sk-toggleable__label-arrow fitted\">&nbsp;&nbsp;PCA<a class=\"sk-estimator-doc-link fitted\" rel=\"noreferrer\" target=\"_blank\" href=\"https://scikit-learn.org/1.5/modules/generated/sklearn.decomposition.PCA.html\">?<span>Documentation for PCA</span></a><span class=\"sk-estimator-doc-link fitted\">i<span>Fitted</span></span></label><div class=\"sk-toggleable__content fitted\"><pre>PCA(n_components=2)</pre></div> </div></div></div></div>"
      ],
      "text/plain": [
       "PCA(n_components=2)"
      ]
     },
     "execution_count": 245,
     "metadata": {},
     "output_type": "execute_result"
    }
   ],
   "source": [
    "from sklearn.decomposition import PCA\n",
    "pca = PCA(n_components=2)\n",
    "pca.fit(X_train_.detach().cpu().numpy())"
   ]
  },
  {
   "cell_type": "code",
   "execution_count": 281,
   "id": "9c0d5b02-d57c-4cce-8b03-60093206ec6f",
   "metadata": {},
   "outputs": [
    {
     "data": {
      "text/html": [
       "<style>#sk-container-id-5 {\n",
       "  /* Definition of color scheme common for light and dark mode */\n",
       "  --sklearn-color-text: black;\n",
       "  --sklearn-color-line: gray;\n",
       "  /* Definition of color scheme for unfitted estimators */\n",
       "  --sklearn-color-unfitted-level-0: #fff5e6;\n",
       "  --sklearn-color-unfitted-level-1: #f6e4d2;\n",
       "  --sklearn-color-unfitted-level-2: #ffe0b3;\n",
       "  --sklearn-color-unfitted-level-3: chocolate;\n",
       "  /* Definition of color scheme for fitted estimators */\n",
       "  --sklearn-color-fitted-level-0: #f0f8ff;\n",
       "  --sklearn-color-fitted-level-1: #d4ebff;\n",
       "  --sklearn-color-fitted-level-2: #b3dbfd;\n",
       "  --sklearn-color-fitted-level-3: cornflowerblue;\n",
       "\n",
       "  /* Specific color for light theme */\n",
       "  --sklearn-color-text-on-default-background: var(--sg-text-color, var(--theme-code-foreground, var(--jp-content-font-color1, black)));\n",
       "  --sklearn-color-background: var(--sg-background-color, var(--theme-background, var(--jp-layout-color0, white)));\n",
       "  --sklearn-color-border-box: var(--sg-text-color, var(--theme-code-foreground, var(--jp-content-font-color1, black)));\n",
       "  --sklearn-color-icon: #696969;\n",
       "\n",
       "  @media (prefers-color-scheme: dark) {\n",
       "    /* Redefinition of color scheme for dark theme */\n",
       "    --sklearn-color-text-on-default-background: var(--sg-text-color, var(--theme-code-foreground, var(--jp-content-font-color1, white)));\n",
       "    --sklearn-color-background: var(--sg-background-color, var(--theme-background, var(--jp-layout-color0, #111)));\n",
       "    --sklearn-color-border-box: var(--sg-text-color, var(--theme-code-foreground, var(--jp-content-font-color1, white)));\n",
       "    --sklearn-color-icon: #878787;\n",
       "  }\n",
       "}\n",
       "\n",
       "#sk-container-id-5 {\n",
       "  color: var(--sklearn-color-text);\n",
       "}\n",
       "\n",
       "#sk-container-id-5 pre {\n",
       "  padding: 0;\n",
       "}\n",
       "\n",
       "#sk-container-id-5 input.sk-hidden--visually {\n",
       "  border: 0;\n",
       "  clip: rect(1px 1px 1px 1px);\n",
       "  clip: rect(1px, 1px, 1px, 1px);\n",
       "  height: 1px;\n",
       "  margin: -1px;\n",
       "  overflow: hidden;\n",
       "  padding: 0;\n",
       "  position: absolute;\n",
       "  width: 1px;\n",
       "}\n",
       "\n",
       "#sk-container-id-5 div.sk-dashed-wrapped {\n",
       "  border: 1px dashed var(--sklearn-color-line);\n",
       "  margin: 0 0.4em 0.5em 0.4em;\n",
       "  box-sizing: border-box;\n",
       "  padding-bottom: 0.4em;\n",
       "  background-color: var(--sklearn-color-background);\n",
       "}\n",
       "\n",
       "#sk-container-id-5 div.sk-container {\n",
       "  /* jupyter's `normalize.less` sets `[hidden] { display: none; }`\n",
       "     but bootstrap.min.css set `[hidden] { display: none !important; }`\n",
       "     so we also need the `!important` here to be able to override the\n",
       "     default hidden behavior on the sphinx rendered scikit-learn.org.\n",
       "     See: https://github.com/scikit-learn/scikit-learn/issues/21755 */\n",
       "  display: inline-block !important;\n",
       "  position: relative;\n",
       "}\n",
       "\n",
       "#sk-container-id-5 div.sk-text-repr-fallback {\n",
       "  display: none;\n",
       "}\n",
       "\n",
       "div.sk-parallel-item,\n",
       "div.sk-serial,\n",
       "div.sk-item {\n",
       "  /* draw centered vertical line to link estimators */\n",
       "  background-image: linear-gradient(var(--sklearn-color-text-on-default-background), var(--sklearn-color-text-on-default-background));\n",
       "  background-size: 2px 100%;\n",
       "  background-repeat: no-repeat;\n",
       "  background-position: center center;\n",
       "}\n",
       "\n",
       "/* Parallel-specific style estimator block */\n",
       "\n",
       "#sk-container-id-5 div.sk-parallel-item::after {\n",
       "  content: \"\";\n",
       "  width: 100%;\n",
       "  border-bottom: 2px solid var(--sklearn-color-text-on-default-background);\n",
       "  flex-grow: 1;\n",
       "}\n",
       "\n",
       "#sk-container-id-5 div.sk-parallel {\n",
       "  display: flex;\n",
       "  align-items: stretch;\n",
       "  justify-content: center;\n",
       "  background-color: var(--sklearn-color-background);\n",
       "  position: relative;\n",
       "}\n",
       "\n",
       "#sk-container-id-5 div.sk-parallel-item {\n",
       "  display: flex;\n",
       "  flex-direction: column;\n",
       "}\n",
       "\n",
       "#sk-container-id-5 div.sk-parallel-item:first-child::after {\n",
       "  align-self: flex-end;\n",
       "  width: 50%;\n",
       "}\n",
       "\n",
       "#sk-container-id-5 div.sk-parallel-item:last-child::after {\n",
       "  align-self: flex-start;\n",
       "  width: 50%;\n",
       "}\n",
       "\n",
       "#sk-container-id-5 div.sk-parallel-item:only-child::after {\n",
       "  width: 0;\n",
       "}\n",
       "\n",
       "/* Serial-specific style estimator block */\n",
       "\n",
       "#sk-container-id-5 div.sk-serial {\n",
       "  display: flex;\n",
       "  flex-direction: column;\n",
       "  align-items: center;\n",
       "  background-color: var(--sklearn-color-background);\n",
       "  padding-right: 1em;\n",
       "  padding-left: 1em;\n",
       "}\n",
       "\n",
       "\n",
       "/* Toggleable style: style used for estimator/Pipeline/ColumnTransformer box that is\n",
       "clickable and can be expanded/collapsed.\n",
       "- Pipeline and ColumnTransformer use this feature and define the default style\n",
       "- Estimators will overwrite some part of the style using the `sk-estimator` class\n",
       "*/\n",
       "\n",
       "/* Pipeline and ColumnTransformer style (default) */\n",
       "\n",
       "#sk-container-id-5 div.sk-toggleable {\n",
       "  /* Default theme specific background. It is overwritten whether we have a\n",
       "  specific estimator or a Pipeline/ColumnTransformer */\n",
       "  background-color: var(--sklearn-color-background);\n",
       "}\n",
       "\n",
       "/* Toggleable label */\n",
       "#sk-container-id-5 label.sk-toggleable__label {\n",
       "  cursor: pointer;\n",
       "  display: block;\n",
       "  width: 100%;\n",
       "  margin-bottom: 0;\n",
       "  padding: 0.5em;\n",
       "  box-sizing: border-box;\n",
       "  text-align: center;\n",
       "}\n",
       "\n",
       "#sk-container-id-5 label.sk-toggleable__label-arrow:before {\n",
       "  /* Arrow on the left of the label */\n",
       "  content: \"▸\";\n",
       "  float: left;\n",
       "  margin-right: 0.25em;\n",
       "  color: var(--sklearn-color-icon);\n",
       "}\n",
       "\n",
       "#sk-container-id-5 label.sk-toggleable__label-arrow:hover:before {\n",
       "  color: var(--sklearn-color-text);\n",
       "}\n",
       "\n",
       "/* Toggleable content - dropdown */\n",
       "\n",
       "#sk-container-id-5 div.sk-toggleable__content {\n",
       "  max-height: 0;\n",
       "  max-width: 0;\n",
       "  overflow: hidden;\n",
       "  text-align: left;\n",
       "  /* unfitted */\n",
       "  background-color: var(--sklearn-color-unfitted-level-0);\n",
       "}\n",
       "\n",
       "#sk-container-id-5 div.sk-toggleable__content.fitted {\n",
       "  /* fitted */\n",
       "  background-color: var(--sklearn-color-fitted-level-0);\n",
       "}\n",
       "\n",
       "#sk-container-id-5 div.sk-toggleable__content pre {\n",
       "  margin: 0.2em;\n",
       "  border-radius: 0.25em;\n",
       "  color: var(--sklearn-color-text);\n",
       "  /* unfitted */\n",
       "  background-color: var(--sklearn-color-unfitted-level-0);\n",
       "}\n",
       "\n",
       "#sk-container-id-5 div.sk-toggleable__content.fitted pre {\n",
       "  /* unfitted */\n",
       "  background-color: var(--sklearn-color-fitted-level-0);\n",
       "}\n",
       "\n",
       "#sk-container-id-5 input.sk-toggleable__control:checked~div.sk-toggleable__content {\n",
       "  /* Expand drop-down */\n",
       "  max-height: 200px;\n",
       "  max-width: 100%;\n",
       "  overflow: auto;\n",
       "}\n",
       "\n",
       "#sk-container-id-5 input.sk-toggleable__control:checked~label.sk-toggleable__label-arrow:before {\n",
       "  content: \"▾\";\n",
       "}\n",
       "\n",
       "/* Pipeline/ColumnTransformer-specific style */\n",
       "\n",
       "#sk-container-id-5 div.sk-label input.sk-toggleable__control:checked~label.sk-toggleable__label {\n",
       "  color: var(--sklearn-color-text);\n",
       "  background-color: var(--sklearn-color-unfitted-level-2);\n",
       "}\n",
       "\n",
       "#sk-container-id-5 div.sk-label.fitted input.sk-toggleable__control:checked~label.sk-toggleable__label {\n",
       "  background-color: var(--sklearn-color-fitted-level-2);\n",
       "}\n",
       "\n",
       "/* Estimator-specific style */\n",
       "\n",
       "/* Colorize estimator box */\n",
       "#sk-container-id-5 div.sk-estimator input.sk-toggleable__control:checked~label.sk-toggleable__label {\n",
       "  /* unfitted */\n",
       "  background-color: var(--sklearn-color-unfitted-level-2);\n",
       "}\n",
       "\n",
       "#sk-container-id-5 div.sk-estimator.fitted input.sk-toggleable__control:checked~label.sk-toggleable__label {\n",
       "  /* fitted */\n",
       "  background-color: var(--sklearn-color-fitted-level-2);\n",
       "}\n",
       "\n",
       "#sk-container-id-5 div.sk-label label.sk-toggleable__label,\n",
       "#sk-container-id-5 div.sk-label label {\n",
       "  /* The background is the default theme color */\n",
       "  color: var(--sklearn-color-text-on-default-background);\n",
       "}\n",
       "\n",
       "/* On hover, darken the color of the background */\n",
       "#sk-container-id-5 div.sk-label:hover label.sk-toggleable__label {\n",
       "  color: var(--sklearn-color-text);\n",
       "  background-color: var(--sklearn-color-unfitted-level-2);\n",
       "}\n",
       "\n",
       "/* Label box, darken color on hover, fitted */\n",
       "#sk-container-id-5 div.sk-label.fitted:hover label.sk-toggleable__label.fitted {\n",
       "  color: var(--sklearn-color-text);\n",
       "  background-color: var(--sklearn-color-fitted-level-2);\n",
       "}\n",
       "\n",
       "/* Estimator label */\n",
       "\n",
       "#sk-container-id-5 div.sk-label label {\n",
       "  font-family: monospace;\n",
       "  font-weight: bold;\n",
       "  display: inline-block;\n",
       "  line-height: 1.2em;\n",
       "}\n",
       "\n",
       "#sk-container-id-5 div.sk-label-container {\n",
       "  text-align: center;\n",
       "}\n",
       "\n",
       "/* Estimator-specific */\n",
       "#sk-container-id-5 div.sk-estimator {\n",
       "  font-family: monospace;\n",
       "  border: 1px dotted var(--sklearn-color-border-box);\n",
       "  border-radius: 0.25em;\n",
       "  box-sizing: border-box;\n",
       "  margin-bottom: 0.5em;\n",
       "  /* unfitted */\n",
       "  background-color: var(--sklearn-color-unfitted-level-0);\n",
       "}\n",
       "\n",
       "#sk-container-id-5 div.sk-estimator.fitted {\n",
       "  /* fitted */\n",
       "  background-color: var(--sklearn-color-fitted-level-0);\n",
       "}\n",
       "\n",
       "/* on hover */\n",
       "#sk-container-id-5 div.sk-estimator:hover {\n",
       "  /* unfitted */\n",
       "  background-color: var(--sklearn-color-unfitted-level-2);\n",
       "}\n",
       "\n",
       "#sk-container-id-5 div.sk-estimator.fitted:hover {\n",
       "  /* fitted */\n",
       "  background-color: var(--sklearn-color-fitted-level-2);\n",
       "}\n",
       "\n",
       "/* Specification for estimator info (e.g. \"i\" and \"?\") */\n",
       "\n",
       "/* Common style for \"i\" and \"?\" */\n",
       "\n",
       ".sk-estimator-doc-link,\n",
       "a:link.sk-estimator-doc-link,\n",
       "a:visited.sk-estimator-doc-link {\n",
       "  float: right;\n",
       "  font-size: smaller;\n",
       "  line-height: 1em;\n",
       "  font-family: monospace;\n",
       "  background-color: var(--sklearn-color-background);\n",
       "  border-radius: 1em;\n",
       "  height: 1em;\n",
       "  width: 1em;\n",
       "  text-decoration: none !important;\n",
       "  margin-left: 1ex;\n",
       "  /* unfitted */\n",
       "  border: var(--sklearn-color-unfitted-level-1) 1pt solid;\n",
       "  color: var(--sklearn-color-unfitted-level-1);\n",
       "}\n",
       "\n",
       ".sk-estimator-doc-link.fitted,\n",
       "a:link.sk-estimator-doc-link.fitted,\n",
       "a:visited.sk-estimator-doc-link.fitted {\n",
       "  /* fitted */\n",
       "  border: var(--sklearn-color-fitted-level-1) 1pt solid;\n",
       "  color: var(--sklearn-color-fitted-level-1);\n",
       "}\n",
       "\n",
       "/* On hover */\n",
       "div.sk-estimator:hover .sk-estimator-doc-link:hover,\n",
       ".sk-estimator-doc-link:hover,\n",
       "div.sk-label-container:hover .sk-estimator-doc-link:hover,\n",
       ".sk-estimator-doc-link:hover {\n",
       "  /* unfitted */\n",
       "  background-color: var(--sklearn-color-unfitted-level-3);\n",
       "  color: var(--sklearn-color-background);\n",
       "  text-decoration: none;\n",
       "}\n",
       "\n",
       "div.sk-estimator.fitted:hover .sk-estimator-doc-link.fitted:hover,\n",
       ".sk-estimator-doc-link.fitted:hover,\n",
       "div.sk-label-container:hover .sk-estimator-doc-link.fitted:hover,\n",
       ".sk-estimator-doc-link.fitted:hover {\n",
       "  /* fitted */\n",
       "  background-color: var(--sklearn-color-fitted-level-3);\n",
       "  color: var(--sklearn-color-background);\n",
       "  text-decoration: none;\n",
       "}\n",
       "\n",
       "/* Span, style for the box shown on hovering the info icon */\n",
       ".sk-estimator-doc-link span {\n",
       "  display: none;\n",
       "  z-index: 9999;\n",
       "  position: relative;\n",
       "  font-weight: normal;\n",
       "  right: .2ex;\n",
       "  padding: .5ex;\n",
       "  margin: .5ex;\n",
       "  width: min-content;\n",
       "  min-width: 20ex;\n",
       "  max-width: 50ex;\n",
       "  color: var(--sklearn-color-text);\n",
       "  box-shadow: 2pt 2pt 4pt #999;\n",
       "  /* unfitted */\n",
       "  background: var(--sklearn-color-unfitted-level-0);\n",
       "  border: .5pt solid var(--sklearn-color-unfitted-level-3);\n",
       "}\n",
       "\n",
       ".sk-estimator-doc-link.fitted span {\n",
       "  /* fitted */\n",
       "  background: var(--sklearn-color-fitted-level-0);\n",
       "  border: var(--sklearn-color-fitted-level-3);\n",
       "}\n",
       "\n",
       ".sk-estimator-doc-link:hover span {\n",
       "  display: block;\n",
       "}\n",
       "\n",
       "/* \"?\"-specific style due to the `<a>` HTML tag */\n",
       "\n",
       "#sk-container-id-5 a.estimator_doc_link {\n",
       "  float: right;\n",
       "  font-size: 1rem;\n",
       "  line-height: 1em;\n",
       "  font-family: monospace;\n",
       "  background-color: var(--sklearn-color-background);\n",
       "  border-radius: 1rem;\n",
       "  height: 1rem;\n",
       "  width: 1rem;\n",
       "  text-decoration: none;\n",
       "  /* unfitted */\n",
       "  color: var(--sklearn-color-unfitted-level-1);\n",
       "  border: var(--sklearn-color-unfitted-level-1) 1pt solid;\n",
       "}\n",
       "\n",
       "#sk-container-id-5 a.estimator_doc_link.fitted {\n",
       "  /* fitted */\n",
       "  border: var(--sklearn-color-fitted-level-1) 1pt solid;\n",
       "  color: var(--sklearn-color-fitted-level-1);\n",
       "}\n",
       "\n",
       "/* On hover */\n",
       "#sk-container-id-5 a.estimator_doc_link:hover {\n",
       "  /* unfitted */\n",
       "  background-color: var(--sklearn-color-unfitted-level-3);\n",
       "  color: var(--sklearn-color-background);\n",
       "  text-decoration: none;\n",
       "}\n",
       "\n",
       "#sk-container-id-5 a.estimator_doc_link.fitted:hover {\n",
       "  /* fitted */\n",
       "  background-color: var(--sklearn-color-fitted-level-3);\n",
       "}\n",
       "</style><div id=\"sk-container-id-5\" class=\"sk-top-container\"><div class=\"sk-text-repr-fallback\"><pre>GradientBoostingClassifier()</pre><b>In a Jupyter environment, please rerun this cell to show the HTML representation or trust the notebook. <br />On GitHub, the HTML representation is unable to render, please try loading this page with nbviewer.org.</b></div><div class=\"sk-container\" hidden><div class=\"sk-item\"><div class=\"sk-estimator fitted sk-toggleable\"><input class=\"sk-toggleable__control sk-hidden--visually\" id=\"sk-estimator-id-5\" type=\"checkbox\" checked><label for=\"sk-estimator-id-5\" class=\"sk-toggleable__label fitted sk-toggleable__label-arrow fitted\">&nbsp;&nbsp;GradientBoostingClassifier<a class=\"sk-estimator-doc-link fitted\" rel=\"noreferrer\" target=\"_blank\" href=\"https://scikit-learn.org/1.5/modules/generated/sklearn.ensemble.GradientBoostingClassifier.html\">?<span>Documentation for GradientBoostingClassifier</span></a><span class=\"sk-estimator-doc-link fitted\">i<span>Fitted</span></span></label><div class=\"sk-toggleable__content fitted\"><pre>GradientBoostingClassifier()</pre></div> </div></div></div></div>"
      ],
      "text/plain": [
       "GradientBoostingClassifier()"
      ]
     },
     "execution_count": 281,
     "metadata": {},
     "output_type": "execute_result"
    }
   ],
   "source": [
    "gbc.fit(X_train_.detach().cpu().numpy(),y_train)"
   ]
  },
  {
   "cell_type": "code",
   "execution_count": 282,
   "id": "12f262a1-9d0f-481c-ac3f-444e173a6d32",
   "metadata": {},
   "outputs": [],
   "source": [
    "y_pred_val_gbc = gbc.predict(X_val_.detach().cpu().numpy())"
   ]
  },
  {
   "cell_type": "code",
   "execution_count": 250,
   "id": "41086193-f1b1-45ac-9ab7-ea189a7f8dfc",
   "metadata": {},
   "outputs": [],
   "source": [
    "from sklearn.metrics import classification_report"
   ]
  },
  {
   "cell_type": "code",
   "execution_count": 283,
   "id": "c43bdfae-33b7-4126-a8fe-7b713ac79ae5",
   "metadata": {},
   "outputs": [
    {
     "name": "stdout",
     "output_type": "stream",
     "text": [
      "              precision    recall  f1-score   support\n",
      "\n",
      "           0       0.12      0.16      0.14        19\n",
      "           1       0.09      0.12      0.10        16\n",
      "           2       0.00      0.00      0.00        23\n",
      "           3       0.13      0.07      0.09        28\n",
      "           4       0.14      0.10      0.12        20\n",
      "           5       0.00      0.00      0.00        11\n",
      "           6       0.04      0.07      0.05        15\n",
      "           7       0.07      0.04      0.05        28\n",
      "           8       0.11      0.11      0.11        18\n",
      "           9       0.15      0.14      0.14        22\n",
      "\n",
      "    accuracy                           0.08       200\n",
      "   macro avg       0.08      0.08      0.08       200\n",
      "weighted avg       0.09      0.08      0.08       200\n",
      "\n"
     ]
    }
   ],
   "source": [
    "print(classification_report(y_pred_val_gbc,y_val))"
   ]
  },
  {
   "cell_type": "code",
   "execution_count": 331,
   "id": "eb0c80b3-b0db-4099-890e-9bbd8187a32b",
   "metadata": {},
   "outputs": [],
   "source": [
    "import torch.nn.functional as F\n",
    "transform = torchvision.transforms.Compose([\n",
    "                                          torchvision.transforms.ToTensor(),\n",
    "                                          torchvision.transforms.Normalize(mean=0.1307, std=0.3081),\n",
    "                                            torchvision.transforms.Pad([2,2],fill=0,padding_mode='symmetric')\n",
    "                                          ])\n",
    "\n",
    "mnist_train = torchvision.datasets.MNIST(root='.', train=True, download=True, transform=transform)\n",
    "mnist_test = torchvision.datasets.MNIST(root='.', train=False, download=True, transform=transform)"
   ]
  },
  {
   "cell_type": "code",
   "execution_count": 337,
   "id": "3bbce787-eecf-4f14-a938-e4f9007e0f6a",
   "metadata": {},
   "outputs": [
    {
     "data": {
      "text/plain": [
       "torch.Size([32, 32])"
      ]
     },
     "execution_count": 337,
     "metadata": {},
     "output_type": "execute_result"
    }
   ],
   "source": [
    "mnist_train[0][0][0].shape"
   ]
  },
  {
   "cell_type": "code",
   "execution_count": 332,
   "id": "60a46c81-83d9-4ca9-a93f-ab45029fab45",
   "metadata": {},
   "outputs": [],
   "source": [
    "import numpy as np\n",
    "from sklearn.model_selection import train_test_split\n",
    "from torch.utils.data import Subset\n",
    "indices = torch.randperm(len(cifar_train))\n",
    "train_indices, test_indices = train_test_split(indices, train_size=0.8)\n",
    "train_dataset = Subset(mnist_train, train_indices)\n",
    "val_dataset = Subset(mnist_train, test_indices)\n",
    "\n",
    "train_loader = DataLoader(train_dataset, batch_size=64, shuffle=True)\n",
    "val_loader = DataLoader(val_dataset, batch_size=64, shuffle=False)\n",
    "test_loader = DataLoader(mnist_test, batch_size=64, shuffle=False)"
   ]
  },
  {
   "cell_type": "code",
   "execution_count": 333,
   "id": "ff27faeb-d5da-432e-867b-e1a0ac30d225",
   "metadata": {},
   "outputs": [],
   "source": [
    "sample_size = 1000\n",
    "train_subset = subsample_dataset(train_dataset, sample_size=sample_size)\n",
    "val_subset = subsample_dataset(val_dataset, sample_size=int(sample_size * 0.2))\n",
    "test_subset = subsample_dataset(cifar_test, sample_size=200)\n",
    "\n",
    "train_loader = DataLoader(train_subset, batch_size=64, shuffle=True)\n",
    "val_loader = DataLoader(val_subset, batch_size=64, shuffle=False)\n",
    "test_loader = DataLoader(test_subset, batch_size=200, shuffle=False)"
   ]
  },
  {
   "cell_type": "code",
   "execution_count": 338,
   "id": "248da43d-f2b7-43fc-adf6-19d35aa5e80e",
   "metadata": {},
   "outputs": [
    {
     "name": "stdout",
     "output_type": "stream",
     "text": [
      ">>> Epoch 0 - train loss: 2.2382576167583466 - train accuracy : 0.17748457185175937 \n",
      ">>> Epoch 0 - test loss: 2.294394850730896 - test accuracy : 0.07783854166666668 \n",
      ">>> Epoch 5 - train loss: 1.7880780920386314 - train accuracy : 0.7505080149884837 \n",
      ">>> Epoch 5 - test loss: 1.9244912266731262 - test accuracy : 0.5123177083333333 \n",
      ">>> Epoch 10 - train loss: 1.668965883553028 - train accuracy : 0.7957001183495325 \n",
      ">>> Epoch 10 - test loss: 1.9207293391227722 - test accuracy : 0.5960677083333333 \n",
      ">>> Epoch 15 - train loss: 1.6399763375520706 - train accuracy : 0.834703063646423 \n",
      ">>> Epoch 15 - test loss: 1.8016504049301147 - test accuracy : 0.716015625 \n",
      ">>> Epoch 20 - train loss: 1.598366655409336 - train accuracy : 0.8766013418005605 \n",
      ">>> Epoch 20 - test loss: 1.7372629344463348 - test accuracy : 0.775390625 \n",
      ">>> Epoch 25 - train loss: 1.5446895137429237 - train accuracy : 0.9268330959405178 \n",
      ">>> Epoch 25 - test loss: 1.6563956439495087 - test accuracy : 0.8120833333333334 \n",
      ">>> Epoch 30 - train loss: 1.515910379588604 - train accuracy : 0.9537088919110404 \n",
      ">>> Epoch 30 - test loss: 1.6383692026138306 - test accuracy : 0.8610416666666666 \n",
      ">>> Epoch 35 - train loss: 1.518885277211666 - train accuracy : 0.9506513586240148 \n",
      ">>> Epoch 35 - test loss: 1.6897494494915009 - test accuracy : 0.7517447916666666 \n",
      ">>> Epoch 40 - train loss: 1.5052199438214302 - train accuracy : 0.956451882752664 \n",
      ">>> Epoch 40 - test loss: 1.737546980381012 - test accuracy : 0.79796875 \n",
      ">>> Epoch 45 - train loss: 1.4932392984628677 - train accuracy : 0.9694057159203644 \n",
      ">>> Epoch 45 - test loss: 1.590690940618515 - test accuracy : 0.8970833333333333 \n",
      ">>> Epoch 50 - train loss: 1.4977807104587555 - train accuracy : 0.9680121222093878 \n",
      ">>> Epoch 50 - test loss: 1.816346138715744 - test accuracy : 0.714921875 \n",
      ">>> Epoch 55 - train loss: 1.4977691993117332 - train accuracy : 0.9698062779234655 \n",
      ">>> Epoch 55 - test loss: 1.590506374835968 - test accuracy : 0.874453125 \n",
      ">>> Epoch 60 - train loss: 1.4938169494271278 - train accuracy : 0.9747488484822469 \n",
      ">>> Epoch 60 - test loss: 1.5999614894390106 - test accuracy : 0.8900260416666667 \n",
      ">>> Epoch 65 - train loss: 1.4863418266177177 - train accuracy : 0.9695294210997336 \n",
      ">>> Epoch 65 - test loss: 1.572512835264206 - test accuracy : 0.8704947916666667 \n",
      ">>> Epoch 70 - train loss: 1.4966345205903053 - train accuracy : 0.9705561246479215 \n",
      ">>> Epoch 70 - test loss: 1.8087466657161713 - test accuracy : 0.6509375 \n",
      ">>> Epoch 75 - train loss: 1.4954728186130524 - train accuracy : 0.9744829330825424 \n",
      ">>> Epoch 75 - test loss: 1.6663292050361633 - test accuracy : 0.8603385416666667 \n",
      ">>> Epoch 80 - train loss: 1.4865133091807365 - train accuracy : 0.9757838869030275 \n",
      ">>> Epoch 80 - test loss: 1.5873680114746094 - test accuracy : 0.8834114583333333 \n",
      ">>> Epoch 85 - train loss: 1.4807012528181076 - train accuracy : 0.9849698594591172 \n",
      ">>> Epoch 85 - test loss: 1.5710701048374176 - test accuracy : 0.856875 \n",
      ">>> Epoch 90 - train loss: 1.481704868376255 - train accuracy : 0.9867536628952644 \n",
      ">>> Epoch 90 - test loss: 1.5733612477779388 - test accuracy : 0.8879166666666667 \n",
      ">>> Epoch 95 - train loss: 1.478841707110405 - train accuracy : 0.9820600685122169 \n",
      ">>> Epoch 95 - test loss: 1.584591031074524 - test accuracy : 0.8969270833333334 \n",
      "376.891415\n"
     ]
    }
   ],
   "source": [
    "import torch.optim as optim\n",
    "import numpy as np\n",
    "from datetime import datetime\n",
    "\n",
    "\n",
    "device = \"cuda\"\n",
    "model = ViT(ch=1).to(device)\n",
    "# train_loader.to(device)\n",
    "# test_loader.to(device)\n",
    "optimizer = optim.AdamW(model.parameters(), lr=0.001)\n",
    "cel = nn.CrossEntropyLoss()\n",
    "da = DiagonalLoss()\n",
    "log_loss_train, log_acc_train, log_loss_test, log_acc_test = [], [], [], []\n",
    "tick = datetime.now()\n",
    "\n",
    "for epoch in range(100):\n",
    "    train_epoch_losses = []\n",
    "    train_epoch_accuracies = []\n",
    "    test_epoch_losses = []\n",
    "    test_epoch_accuracies = []\n",
    "    model.train()\n",
    "    train_corr, train_total = 0, 0\n",
    "    test_corr, test_total = 0, 0\n",
    "    for step, (inputs, labels) in enumerate(train_loader):\n",
    "        inputs, labels = inputs.to(device), labels.to(device)\n",
    "        optimizer.zero_grad()\n",
    "        outputs = model(inputs)\n",
    "        y_pred = torch.argmax(outputs, 1)\n",
    "        train_corr += torch.sum(torch.eq(y_pred, labels).float()).item()\n",
    "        train_total += len(inputs)\n",
    "        epoch_accuracy = train_corr / train_total\n",
    "        train_epoch_accuracies.append(epoch_accuracy)\n",
    "        # print(model.att_matrix[1].shape)\n",
    "        loss =  cel(outputs, labels)\n",
    "        # loss += da(model.att_matrix)\n",
    "        # print(loss)\n",
    "        torch.autograd.set_detect_anomaly(True)\n",
    "        loss.backward(retain_graph=True)\n",
    "        optimizer.step()\n",
    "        train_epoch_losses.append(loss.item())\n",
    "    log_loss_train.append(np.mean(train_epoch_losses))\n",
    "    log_acc_train.append(np.mean(train_epoch_accuracies))\n",
    "    model.eval()\n",
    "    with torch.no_grad():\n",
    "        for step, (inputs, labels) in enumerate(val_loader):\n",
    "            inputs, labels = inputs.to(device), labels.to(device)\n",
    "            outputs = model(inputs)\n",
    "            y_pred = torch.argmax(outputs, 1)\n",
    "            test_corr += torch.sum(torch.eq(y_pred, labels).float()).item()\n",
    "            test_total += len(inputs)\n",
    "            epoch_accuracy = test_corr / test_total\n",
    "            test_epoch_accuracies.append(epoch_accuracy)\n",
    "            loss = cel(outputs, labels)\n",
    "                # loss += da(model.att_matrix)\n",
    "            test_epoch_losses.append(loss.item())\n",
    "    log_loss_test.append(np.mean(test_epoch_losses))\n",
    "    log_acc_test.append(np.mean(test_epoch_accuracies))\n",
    "    if epoch % 5 == 0:\n",
    "    # if True:\n",
    "        print(f\">>> Epoch {epoch} - train loss: {np.mean(train_epoch_losses)} - train accuracy : {np.mean(train_epoch_accuracies)} \") \n",
    "        # epoch_losses = []\n",
    "        # epoch_accuracies = []\n",
    "        print(f\">>> Epoch {epoch} - test loss: {np.mean(test_epoch_losses)} - test accuracy : {np.mean(test_epoch_accuracies)} \") \n",
    "    \n",
    "tock = datetime.now()   \n",
    "\n",
    "diff = tock - tick    # the result is a datetime.timedelta object\n",
    "print(diff.total_seconds())"
   ]
  },
  {
   "cell_type": "code",
   "execution_count": 339,
   "id": "902bf8db-a6ba-4d47-aac3-19307f09b8f2",
   "metadata": {},
   "outputs": [
    {
     "data": {
      "image/png": "[encoded data removed]",
      "text/plain": [
       "<Figure size 1000x500 with 1 Axes>"
      ]
     },
     "metadata": {},
     "output_type": "display_data"
    }
   ],
   "source": [
    "# Plot the training and test loss\n",
    "plt.figure(figsize=(10, 5))\n",
    "plt.plot(log_acc_train, label='Train Accuracy')\n",
    "plt.plot(log_acc_test, label='Test Accuracy')\n",
    "plt.title('Loss Curve')\n",
    "plt.xlabel('Epoch')\n",
    "plt.ylabel('Accuracy')\n",
    "plt.legend()\n",
    "plt.savefig('./LaViT_learning_curve_mnist.png')\n",
    "plt.show()"
   ]
  },
  {
   "cell_type": "code",
   "execution_count": 341,
   "id": "d2fde342-5050-496f-95e5-e759410cdabd",
   "metadata": {},
   "outputs": [
    {
     "name": "stdout",
     "output_type": "stream",
     "text": [
      "test loss:  30556.119140625\n",
      "test acc:  0.625\n"
     ]
    }
   ],
   "source": [
    "cel = nn.CrossEntropyLoss()\n",
    "da = DiagonalLoss()\n",
    "epoch_losses = []\n",
    "epoch_accuracies = []\n",
    "for step, (inputs, labels) in enumerate(val_loader):\n",
    "    test_corr, test_total = 0, 0\n",
    "    model.eval()\n",
    "    with torch.no_grad():\n",
    "        inputs, labels = inputs.to(device), labels.to(device)\n",
    "        outputs = model(inputs)\n",
    "        # print(len(inputs))\n",
    "        y_pred = torch.argmax(outputs, 1)\n",
    "        test_corr += torch.sum(torch.eq(y_pred, labels).float()).item()\n",
    "        test_total += len(inputs)\n",
    "        epoch_accuracy = test_corr / test_total\n",
    "        epoch_accuracies.append(epoch_accuracy)\n",
    "        loss = cel(outputs, labels)\n",
    "        loss += da(model.att_matrix)\n",
    "        # y_val = labels.detach().cpu().numpy()\n",
    "        # epoch_losses.append(loss.item())\n",
    "print(f\"test loss: \", np.mean(loss.item()))\n",
    "print(f\"test acc: \", epoch_accuracy)"
   ]
  },
  {
   "cell_type": "code",
   "execution_count": 343,
   "id": "d4bfcb09-696b-43df-80e1-5360086876dc",
   "metadata": {},
   "outputs": [
    {
     "data": {
      "text/plain": [
       "torch.Size([8, 5, 32])"
      ]
     },
     "execution_count": 343,
     "metadata": {},
     "output_type": "execute_result"
    }
   ],
   "source": [
    "model.attention_feature.shape"
   ]
  }
 ],
 "metadata": {
  "kernelspec": {
   "display_name": "Python 3 (ipykernel)",
   "language": "python",
   "name": "python3"
  },
  "language_info": {
   "codemirror_mode": {
    "name": "ipython",
    "version": 3
   },
   "file_extension": ".py",
   "mimetype": "text/x-python",
   "name": "python",
   "nbconvert_exporter": "python",
   "pygments_lexer": "ipython3",
   "version": "3.9.7"
  }
 },
 "nbformat": 4,
 "nbformat_minor": 5
}
